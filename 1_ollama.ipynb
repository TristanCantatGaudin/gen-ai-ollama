{
 "cells": [
  {
   "cell_type": "markdown",
   "id": "e2beffea-6b0f-4be1-858a-c5ec508a7766",
   "metadata": {},
   "source": [
    "# Running a Large Language Model locally\n",
    "\n",
    "To interact with LLMs I use [Ollama](https://ollama.com), which can then be used in the terminal or through Python.\n",
    "\n",
    "I obtained the 7B-parameter version of DeepSeek-R1, with the following command, which downloaded a 4.7GB file:\n",
    "\n",
    "    ollama pull deepseek-r1:7b\n",
    "\n",
    "Then I can chat with the model with:\n",
    "\n",
    "    ollama run deepseek-r1:7b\n",
    "\n",
    "Now let's do it in Python! For this to work, you need to allow Ollama to serve the model, either with\n",
    "\n",
    "    ollama serve\n",
    "\n",
    "in the terminal, or by starting the Ollama GUI."
   ]
  },
  {
   "cell_type": "code",
   "execution_count": 1,
   "id": "c01844e1-83e3-4cbe-a9f7-269f59e7d502",
   "metadata": {},
   "outputs": [],
   "source": [
    "import ollama\n",
    "LANGUAGE_MODEL = 'deepseek-r1:7b'"
   ]
  },
  {
   "cell_type": "markdown",
   "id": "3c4b5278-06c3-47cc-84af-2e81dfd89c8e",
   "metadata": {},
   "source": [
    "## Asking a question with `ollama.generate()`"
   ]
  },
  {
   "cell_type": "code",
   "execution_count": 2,
   "id": "79927abc-10cd-466f-8895-cd780a43f571",
   "metadata": {},
   "outputs": [
    {
     "name": "stdout",
     "output_type": "stream",
     "text": [
      "<think>\n",
      "Okay, so I'm trying to figure out if the Sun is a star. Hmm, from what I remember in school, stars are those bright balls of glowing gas that emit light through nuclear reactions. But wait, isn't the Sun also referred to as the \"Star of Bethlehem\" or something like that? Maybe that's why it's called a star.\n",
      "\n",
      "I think the Sun provides a lot of energy for our planet Earth. It warms up the surface and causes the weather patterns we have. So if it's giving off light and heat, does that make it a star?\n",
      "\n",
      "Let me break it down. Stars are classified based on their life stages: protostars becoming main-sequence stars like our Sun, giants, supergiants, etc. The Sun is in the main sequence phase right now.\n",
      "\n",
      "Also, there are different types of stars with varying temperatures and sizes. The Sun's temperature is around 5,700 degrees Celsius, which I think falls under G-type stars. So that fits into the category of stars.\n",
      "\n",
      "I've heard about other celestial bodies like planets, comets, asteroids, etc., but the Sun isn't any of those. It’s definitely a massive ball of gas fusing hydrogen into helium in its core. That's what fusion means here, right? Like how the sun burns hydrogen to produce energy through nuclear fusion.\n",
      "\n",
      "Wait, sometimes people confuse stars with planets or other lights in the sky. But stars are much brighter and more stable over long periods compared to things like meteors or even some constellations that aren't actual luminous objects.\n",
      "\n",
      "So putting it all together: The Sun is a star because it's a massive, luminous ball of gas undergoing fusion in its core, emitting light and energy. It meets the criteria for being classified as a star in astronomy.\n",
      "</think>\n",
      "\n",
      "Yes, the Sun is indeed classified as a star. Here's why:\n",
      "\n",
      "1. **Definition of a Star**: The Sun is a massive, luminous celestial object that emits light and energy primarily through nuclear fusion in its core.\n",
      "\n",
      "2. **Classification**: It is categorized as an A-type main-sequence star, specifically a G-type star with a temperature around 5,700°C (9,432°F) and a spectral type G2 V.\n",
      "\n",
      "3. **Energy Production**: The Sun's energy is produced through the fusion of hydrogen into helium in its core, a process that continues at a steady rate despite the immense energy output.\n",
      "\n",
      "4. **Comparison with Other Celestial Bodies**:\n",
      "   - Unlike planets or comets, which orbit stars and are smaller, the Sun is significantly larger.\n",
      "   - It differs from constellations, which are groups of stars perceived as figures in the sky but do not emit light themselves.\n",
      "   - Unlike meteors or asteroids, which can sometimes appear bright in the night sky, they are not classified as stars.\n",
      "\n",
      "In summary, the Sun meets all the criteria to be considered a star: it is massive, emits light and energy through nuclear fusion, and has a stable structure suitable for long-term existence.CPU times: user 917 ms, sys: 254 ms, total: 1.17 s\n",
      "Wall time: 38.1 s\n"
     ]
    }
   ],
   "source": [
    "%%time\n",
    "stream = ollama.generate(model=LANGUAGE_MODEL, prompt='Is the Sun a star?', stream=True)\n",
    "for chunk in stream:\n",
    "  print(chunk['response'], end='', flush=True)"
   ]
  },
  {
   "cell_type": "markdown",
   "id": "f25e0af7-5295-418b-ab3f-5f2f6e4947a3",
   "metadata": {},
   "source": [
    "## Asking the same question again"
   ]
  },
  {
   "cell_type": "code",
   "execution_count": 3,
   "id": "b65db2d6-c0c6-445f-86bb-f618c941dcf4",
   "metadata": {},
   "outputs": [
    {
     "name": "stdout",
     "output_type": "stream",
     "text": [
      "<think>\n",
      "Okay, so I'm trying to figure out whether the Sun is considered a star. From what I remember, stars are massive balls of glowing gas that emit light and heat through nuclear reactions. The Sun fits this description because it's incredibly hot and luminous. But wait, isn't there something about classifications? Like, maybe not all stars are exactly like the Sun?\n",
      "\n",
      "I think the main types of stars include O-type, B-type, A-type, etc., each with different temperatures and sizes. The Sun is a G-type star, which is kind of in the middle. So perhaps it's categorized as a star but has specific characteristics that set it apart from other stars.\n",
      "\n",
      "But then why do people sometimes refer to the Sun differently? Maybe because it's our closest star or because of its unique properties like having sunspots and the solar cycle. But those are more about surface phenomena rather than changing its classification.\n",
      "\n",
      "I also recall something about a star needing to have started fusion, which the Sun is doing in its core. Other celestial bodies like planets don't qualify as stars. So, based on that, yes, the Sun fits the definition of a star.\n",
      "\n",
      "Wait, could there be any exceptions or other classifications where it's not considered? I don't think so. The Sun doesn't meet the criteria for being a brown dwarf because its mass is above that threshold. And it's definitely more massive than planets, so it falls into the category of stars despite appearing smaller from Earth's perspective.\n",
      "\n",
      "So putting it all together, yes, the Sun is indeed classified as a star, specifically a G-type main-sequence star.\n",
      "</think>\n",
      "\n",
      "Yes, the Sun is considered a star. Specifically, it is classified as a G-type main-sequence star. Stars are massive, luminous celestial bodies undergoing nuclear fusion in their cores, and the Sun meets these criteria. Despite its apparent size from Earth, it has sufficient mass to be categorized as a star, distinguishing it from planets like Earth.\n",
      "\n",
      "**Answer:**  \n",
      "Yes, the Sun is classified as a G-type main-sequence star, fitting the definition of a star with its core fusion processes.CPU times: user 606 ms, sys: 160 ms, total: 766 ms\n",
      "Wall time: 25.7 s\n"
     ]
    }
   ],
   "source": [
    "%%time\n",
    "stream = ollama.generate(model=LANGUAGE_MODEL, prompt='Is the Sun a star?', stream=True)\n",
    "for chunk in stream:\n",
    "  print(chunk['response'], end='', flush=True)"
   ]
  },
  {
   "cell_type": "markdown",
   "id": "576c319f-516d-4fac-998e-3226330c6ee6",
   "metadata": {},
   "source": [
    "Remark that we get a different output! The LLM provides a probability for each next word in the text, and Ollama picks one based on those probabilities, which makes every run different.\n",
    "\n",
    "## How to always get the same output\n",
    "\n",
    "If we want the output to always be the same, we can force it to always pick the most probable by setting the `temperature` parameter to zero:"
   ]
  },
  {
   "cell_type": "code",
   "execution_count": 4,
   "id": "f48f6031-7932-48cf-9754-4dad8af80ef9",
   "metadata": {},
   "outputs": [
    {
     "name": "stdout",
     "output_type": "stream",
     "text": [
      "<think>\n",
      "\n",
      "</think>\n",
      "\n",
      "Yes, Japan is located in Asia. It is an island country off the eastern coast of the Pacific Ocean and is part of East Asia.CPU times: user 46.7 ms, sys: 13.8 ms, total: 60.5 ms\n",
      "Wall time: 2.21 s\n"
     ]
    }
   ],
   "source": [
    "%%time\n",
    "stream = ollama.generate(\n",
    "    model=LANGUAGE_MODEL, \n",
    "    prompt='Is Japan in Asia?', \n",
    "    stream=True,\n",
    "    options={\"temperature\": 0},\n",
    ")\n",
    "for chunk in stream:\n",
    "  print(chunk['response'], end='', flush=True)"
   ]
  },
  {
   "cell_type": "code",
   "execution_count": 5,
   "id": "c6578053-d2cf-4ec0-9b1d-f13051f46451",
   "metadata": {},
   "outputs": [
    {
     "name": "stdout",
     "output_type": "stream",
     "text": [
      "<think>\n",
      "\n",
      "</think>\n",
      "\n",
      "Yes, Japan is located in Asia. It is an island country off the eastern coast of the Pacific Ocean and is part of East Asia.CPU times: user 46.1 ms, sys: 12.9 ms, total: 59 ms\n",
      "Wall time: 2.08 s\n"
     ]
    }
   ],
   "source": [
    "%%time\n",
    "stream = ollama.generate(\n",
    "    model=LANGUAGE_MODEL, \n",
    "    prompt='Is Japan in Asia?', \n",
    "    stream=True,\n",
    "    options={\"temperature\": 0},\n",
    ")\n",
    "for chunk in stream:\n",
    "  print(chunk['response'], end='', flush=True)"
   ]
  },
  {
   "cell_type": "markdown",
   "id": "7e2343a9-3f6e-4f91-83c1-d17d7603aaa3",
   "metadata": {},
   "source": [
    "Just because the model thinks it knows the answer doesn't mean it is correct! Example:"
   ]
  },
  {
   "cell_type": "code",
   "execution_count": 6,
   "id": "0146ffa3-11e4-417a-b456-7912eb5ab0fd",
   "metadata": {},
   "outputs": [
    {
     "name": "stdout",
     "output_type": "stream",
     "text": [
      "<think>\n",
      "\n",
      "</think>\n",
      "\n",
      "The Rolling Stones are one of the most iconic and influential rock bands in music history. Formed in 1962 in London, England, by Mick Jagger and Keith Richards, the band has evolved over the years with the addition of other members, including Charlie Chang (bass) and Bill Wyman (guitar). The Rolling Stones are known for their powerful stage presence, energetic performances, and a wide range of music that spans more than five decades.\n",
      "\n",
      "The band's music is characterized by its deep grooves, emotional lyrics, and a blend of rock, blues, and psychedelic elements. Some of their most famous songs include \"Brown Sugar,\" \"Paint It, Black,\" \"Satisfaction,\" \"Hey Jude,\" \"Paint the Sky,\" and \"Tattooed Love.\" The Rolling Stones have won numerous awards, including five Grammys, and have sold over 100 million records worldwide.\n",
      "\n",
      "In addition to their music, the Rolling Stones are celebrated for their live performances, which have captivated audiences around the world. Their discography includes several studio albums, such as \"Gimme Some of That,\" \"Brown Sugar,\" and \"Paint It, Black,\" as well as multiple greatest hits collections.\n",
      "\n",
      "The band's influence extends beyond rock music; they have inspired countless artists and continue to be a cornerstone of modern music. The Rolling Stones' legacy is not only in their music but also in their impact on the cultural landscape.CPU times: user 401 ms, sys: 110 ms, total: 511 ms\n",
      "Wall time: 20.2 s\n"
     ]
    }
   ],
   "source": [
    "%%time\n",
    "stream = ollama.generate(\n",
    "    model=LANGUAGE_MODEL, \n",
    "    prompt='Who are the Rolling Stones?', \n",
    "    stream=True,\n",
    "    options={\"temperature\": 0},\n",
    ")\n",
    "for chunk in stream:\n",
    "  print(chunk['response'], end='', flush=True)"
   ]
  },
  {
   "cell_type": "markdown",
   "id": "7552ddfd-c7df-4dfd-9a2d-f2104f7a48af",
   "metadata": {},
   "source": [
    "## Providing chat history with `ollama.chat()`\n",
    "\n",
    "This module allows you to provide a whole list of messages to the LLM, specifying if they come from the `user`, or the LLM itself (`assistant`). This is how you keep a chat history, so you can ask for instance:\n",
    "\n",
    "    user: What is the capital of Japan?\n",
    "    assistant: Tokyo.\n",
    "    user: And Thailand?    \n",
    "    assistant: Bangkok."
   ]
  },
  {
   "cell_type": "code",
   "execution_count": 7,
   "id": "54ad8bd3-5408-4d66-b206-cd644471c230",
   "metadata": {},
   "outputs": [
    {
     "name": "stdout",
     "output_type": "stream",
     "text": [
      "<think>\n",
      "\n",
      "</think>\n",
      "\n",
      "The capital of Japan is Tokyo.\n"
     ]
    }
   ],
   "source": [
    "messages = [\n",
    "  {'role': 'user', 'content': 'What is the capital of Japan?'},\n",
    "]\n",
    "\n",
    "response = ollama.chat(LANGUAGE_MODEL, \n",
    "                       messages=messages,\n",
    "                      options={\"temperature\": 0})\n",
    "message = response['message']\n",
    "print(message['content'])\n",
    "messages.append(message)"
   ]
  },
  {
   "cell_type": "code",
   "execution_count": 8,
   "id": "4ecb5a39-4b08-436d-94c7-c9b46c6bc010",
   "metadata": {},
   "outputs": [
    {
     "name": "stdout",
     "output_type": "stream",
     "text": [
      "<think>\n",
      "Okay, so the user asked about the capitals of Japan and Thailand after I told them that Japan's capital is Tokyo. Now they're asking about Thailand.\n",
      "\n",
      "I should provide a clear answer first: Bangkok is Thailand's capital.\n",
      "\n",
      "But wait, maybe they want more details. They might be curious about why Bangkok is the capital or if there are any other capitals besides it.\n",
      "\n",
      "I should mention that while Bangkok is the official capital, sometimes people refer to Nonthaburi as well because of its economic importance.\n",
      "\n",
      "Also, I can add a bit about the significance of the capital in terms of governance and international presence.\n",
      "\n",
      "Keeping it friendly and informative would be best.\n",
      "</think>\n",
      "\n",
      "The capital of Thailand is Bangkok. It's also known as Nonthaburi in some contexts due to its economic and administrative significance. Bangkok is a major city in Thailand, serving as both its commercial, political, and cultural center.\n"
     ]
    }
   ],
   "source": [
    "messages.append({'role': 'user', 'content': 'And Thailand?'})\n",
    "\n",
    "response = ollama.chat(LANGUAGE_MODEL, \n",
    "                       messages=messages,\n",
    "                      options={\"temperature\": 0})\n",
    "message = response['message']\n",
    "print(message['content'])\n",
    "messages.append(message)"
   ]
  }
 ],
 "metadata": {
  "kernelspec": {
   "display_name": "Python 3 (ipykernel)",
   "language": "python",
   "name": "python3"
  },
  "language_info": {
   "codemirror_mode": {
    "name": "ipython",
    "version": 3
   },
   "file_extension": ".py",
   "mimetype": "text/x-python",
   "name": "python",
   "nbconvert_exporter": "python",
   "pygments_lexer": "ipython3",
   "version": "3.13.3"
  }
 },
 "nbformat": 4,
 "nbformat_minor": 5
}
