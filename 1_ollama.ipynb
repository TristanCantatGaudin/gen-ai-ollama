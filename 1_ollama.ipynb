{
 "cells": [
  {
   "cell_type": "markdown",
   "id": "e2beffea-6b0f-4be1-858a-c5ec508a7766",
   "metadata": {},
   "source": [
    "# Using a Large Language Model locally\n",
    "\n",
    "To interact with LLMs I use Ollama https://ollama.com, which can then be used in the terminal or through Python.\n",
    "\n",
    "I obtained the 7B-parameter version of DeepSeek-R1, with the command:\n",
    "\n",
    "    ollama pull deepseek-r1:7b\n",
    "\n",
    "Then I can chat with the model with:\n",
    "\n",
    "    ollama run deepseek-r1:7b\n",
    "\n",
    "Now let's do it in Python!"
   ]
  },
  {
   "cell_type": "code",
   "execution_count": 2,
   "id": "c01844e1-83e3-4cbe-a9f7-269f59e7d502",
   "metadata": {},
   "outputs": [],
   "source": [
    "import ollama\n",
    "LANGUAGE_MODEL = 'deepseek-r1:7b'"
   ]
  },
  {
   "cell_type": "markdown",
   "id": "3c4b5278-06c3-47cc-84af-2e81dfd89c8e",
   "metadata": {},
   "source": [
    "## Asking a question with ollama.generate()"
   ]
  },
  {
   "cell_type": "code",
   "execution_count": 17,
   "id": "79927abc-10cd-466f-8895-cd780a43f571",
   "metadata": {},
   "outputs": [
    {
     "name": "stdout",
     "output_type": "stream",
     "text": [
      "<think>\n",
      "\n",
      "</think>\n",
      "\n",
      "The distance from Earth to the Sun is approximately 149.6 million kilometers (about 93 million miles). This distance is also known as one astronomical unit (AU), which is a common measure of scale in astronomy.CPU times: user 79.5 ms, sys: 25.2 ms, total: 105 ms\n",
      "Wall time: 3.52 s\n"
     ]
    }
   ],
   "source": [
    "%%time\n",
    "stream = ollama.generate(model=LANGUAGE_MODEL, prompt='How far away is the Sun?', stream=True)\n",
    "for chunk in stream:\n",
    "  print(chunk['response'], end='', flush=True)"
   ]
  },
  {
   "cell_type": "markdown",
   "id": "f25e0af7-5295-418b-ab3f-5f2f6e4947a3",
   "metadata": {},
   "source": [
    "Didn't need to think at all, as it probably had the answere memorised. \n",
    "\n",
    "## Asking the same question again"
   ]
  },
  {
   "cell_type": "code",
   "execution_count": 18,
   "id": "b65db2d6-c0c6-445f-86bb-f618c941dcf4",
   "metadata": {},
   "outputs": [
    {
     "name": "stdout",
     "output_type": "stream",
     "text": [
      "<think>\n",
      "\n",
      "</think>\n",
      "\n",
      "The distance from Earth to the Sun is approximately 93 million miles (150 million kilometers).CPU times: user 41.5 ms, sys: 12.7 ms, total: 54.2 ms\n",
      "Wall time: 1.68 s\n"
     ]
    }
   ],
   "source": [
    "%%time\n",
    "stream = ollama.generate(model=LANGUAGE_MODEL, prompt='How far away is the Sun?', stream=True)\n",
    "for chunk in stream:\n",
    "  print(chunk['response'], end='', flush=True)"
   ]
  },
  {
   "cell_type": "markdown",
   "id": "576c319f-516d-4fac-998e-3226330c6ee6",
   "metadata": {},
   "source": [
    "Remark that the answer is not exactly the same! The LLM provides a probability for each next word in the text, and Ollama picks one based on those probabilities, which makes every run different.\n",
    "\n",
    "## How to always get the same output\n",
    "\n",
    "If we want the output to always be the same, we can force it to always pick the most probable by setting the `temperature` parameter to zero:"
   ]
  },
  {
   "cell_type": "code",
   "execution_count": 21,
   "id": "f48f6031-7932-48cf-9754-4dad8af80ef9",
   "metadata": {},
   "outputs": [
    {
     "name": "stdout",
     "output_type": "stream",
     "text": [
      "<think>\n",
      "\n",
      "</think>\n",
      "\n",
      "Yes, Japan is located in Asia. It is an island country off the eastern coast of the Pacific Ocean and is part of East Asia.CPU times: user 52.1 ms, sys: 16.3 ms, total: 68.5 ms\n",
      "Wall time: 2.31 s\n"
     ]
    }
   ],
   "source": [
    "%%time\n",
    "stream = ollama.generate(\n",
    "    model=LANGUAGE_MODEL, \n",
    "    prompt='Is Japan in Asia?', \n",
    "    stream=True,\n",
    "    options={\"temperature\": 0},\n",
    ")\n",
    "for chunk in stream:\n",
    "  print(chunk['response'], end='', flush=True)"
   ]
  },
  {
   "cell_type": "code",
   "execution_count": 22,
   "id": "c6578053-d2cf-4ec0-9b1d-f13051f46451",
   "metadata": {},
   "outputs": [
    {
     "name": "stdout",
     "output_type": "stream",
     "text": [
      "<think>\n",
      "\n",
      "</think>\n",
      "\n",
      "Yes, Japan is located in Asia. It is an island country off the eastern coast of the Pacific Ocean and is part of East Asia.CPU times: user 53.3 ms, sys: 16.2 ms, total: 69.5 ms\n",
      "Wall time: 2.05 s\n"
     ]
    }
   ],
   "source": [
    "%%time\n",
    "stream = ollama.generate(\n",
    "    model=LANGUAGE_MODEL, \n",
    "    prompt='Is Japan in Asia?', \n",
    "    stream=True,\n",
    "    options={\"temperature\": 0},\n",
    ")\n",
    "for chunk in stream:\n",
    "  print(chunk['response'], end='', flush=True)"
   ]
  },
  {
   "cell_type": "markdown",
   "id": "7e2343a9-3f6e-4f91-83c1-d17d7603aaa3",
   "metadata": {},
   "source": [
    "Just because the model thinks it knows the answer doesn't mean it is correct! Example:"
   ]
  },
  {
   "cell_type": "code",
   "execution_count": 30,
   "id": "0146ffa3-11e4-417a-b456-7912eb5ab0fd",
   "metadata": {},
   "outputs": [
    {
     "name": "stdout",
     "output_type": "stream",
     "text": [
      "<think>\n",
      "\n",
      "</think>\n",
      "\n",
      "The Rolling Stones are one of the most iconic and influential rock bands in music history. Formed in 1962 in London, England, by Mick Jagger and Keith Richards, the band has evolved over the years with the addition of other members, including Charlie Chang (bass) and Bill Wyman (guitar). The Rolling Stones are known for their powerful stage presence, energetic performances, and a wide range of music that spans more than five decades.\n",
      "\n",
      "The band's music is characterized by its deep grooves, emotional lyrics, and a blend of rock, blues, and psychedelic elements. Some of their most famous songs include \"Brown Sugar,\" \"Paint It, Black,\" \"Satisfaction,\" \"Hey Jude,\" \"Paint the Sky,\" and \"Tattooed Love.\" The Rolling Stones have won numerous awards, including five Grammys, and have sold over 100 million records worldwide.\n",
      "\n",
      "In addition to their music, the Rolling Stones are celebrated for their live performances, which have captivated audiences around the world. Their discography includes several studio albums, such as \"Gimme Some of That,\" \"Brown Sugar,\" and \"Paint It, Black,\" as well as multiple greatest hits collections.\n",
      "\n",
      "The band's influence extends beyond rock music; they have inspired countless artists and continue to be a cornerstone of modern music. The Rolling Stones' legacy is not only in their music but also in their impact on the cultural landscape.CPU times: user 440 ms, sys: 124 ms, total: 565 ms\n",
      "Wall time: 18.6 s\n"
     ]
    }
   ],
   "source": [
    "%%time\n",
    "stream = ollama.generate(\n",
    "    model=LANGUAGE_MODEL, \n",
    "    prompt='Who are the Rolling Stones?', \n",
    "    stream=True,\n",
    "    options={\"temperature\": 0},\n",
    ")\n",
    "for chunk in stream:\n",
    "  print(chunk['response'], end='', flush=True)"
   ]
  },
  {
   "cell_type": "markdown",
   "id": "0b406ea4-8687-4b3d-bae0-22db514f50d9",
   "metadata": {},
   "source": [
    "## Watching the model think\n",
    "\n",
    "If we ask simple questions for which the LLM has memorised the answer, it returns an output very quickly. For more complicated requests it will show us its thinking process:"
   ]
  },
  {
   "cell_type": "code",
   "execution_count": 33,
   "id": "a5348583-c6fe-4655-bb6e-37adbb97303d",
   "metadata": {},
   "outputs": [
    {
     "name": "stdout",
     "output_type": "stream",
     "text": [
      "<think>\n",
      "Okay, so I need to figure out what the legal implications are for owning a lawnmower in Iceland. Hmm, where do I start? Well, first off, I know that in many places, having a power mower or lawnmower falls under some kind of regulation because it's considered a dangerous appliance. But I'm not exactly sure how Iceland treats this.\n",
      "\n",
      "I think the first thing to consider is whether owning a lawnmower requires any specific license or permit. In my country, for example, you need a driver's license and maybe a motorcycle license if you want to drive one. So maybe in Iceland, they have something similar. Maybe there are age restrictions too? I mean, can anyone get a lawnmower license, or is it only for people over 18?\n",
      "\n",
      "Then there's the issue of public safety. Lawnmowers can be dangerous because they're heavy and have sharp blades. So perhaps owning one means you have to register it with local authorities so they know where it is in case someone gets hurt. I remember seeing signs around my neighborhood saying something about power lawn mowers needing to be registered.\n",
      "\n",
      "I also wonder if there are any specific laws regarding the storage of such equipment. Maybe you need special permits for keeping a lawnmower indoors or outdoors? Or perhaps just general regulations on how it's stored to prevent accidents.\n",
      "\n",
      "Another thought is about insurance. If I own a lawnmower, do I need liability insurance in Iceland? I know that in some places, having a vehicle requires insurance, so maybe owning a lawnmower does too. But I'm not sure if it's mandatory or optional.\n",
      "\n",
      "I should also consider any local regulations specific to the area where someone lives. Maybe certain regions have different rules than others. For example, urban areas might have stricter rules about public access to power equipment compared to rural areas.\n",
      "\n",
      "Additionally, there could be environmental considerations. Lawnmowers can contribute to pollution if not maintained properly, so maybe owning one has some environmental regulations or guidelines on how to use and store it responsibly.\n",
      "\n",
      "Wait, I'm also thinking about the legal age for purchasing a lawnmower in Iceland. Is it different from other countries? Maybe they have specific models that are required to be bought at a certain age or with parental consent?\n",
      "\n",
      "Oh, and what about importing one? If someone moves to Iceland, can they legally bring their existing lawnmower over, or do they need to get a new one? I'm not sure if there are customs regulations on machinery.\n",
      "\n",
      "I should also think about any potential fines for violating safety standards. If the lawnmower isn't properly maintained or stored, could that lead to penalties?\n",
      "\n",
      "Moreover, is there anything about the registration of the owner's name? Like, does the owner have to be listed in official records if the mower is stolen or lost?\n",
      "\n",
      "I'm also curious about any educational requirements. Maybe you need to take a course on safe operation and storage before getting a license.\n",
      "\n",
      "Lastly, I wonder how these laws compare to other Nordic countries. Iceland has a unique legal system, so maybe it's similar but with some twists based on their specific environmental policies or safety standards.\n",
      "\n",
      "So, putting this all together, owning a lawnmower in Iceland likely involves obtaining a specific license, registering the mower with local authorities for public safety reasons, possibly needing insurance, adhering to storage regulations, and complying with any environmental guidelines. There might also be age restrictions and requirements regarding ownership transfer if the mower is moved.\n",
      "</think>\n",
      "\n",
      "Owning a lawnmower in Iceland involves several legal considerations:\n",
      "\n",
      "1. **License Obtainance**: You may need a specific license or permit to operate a lawnmower, likely requiring an age restriction (e.g., 18 years or older).\n",
      "\n",
      "2. **Registration**: The lawnmower must be registered with local authorities for public safety and liability purposes.\n",
      "\n",
      "3. **Storage Regulations**: There may be permits required for storing the mower indoors or outdoors to prevent accidents.\n",
      "\n",
      "4. **Insurance**: Liability insurance might be mandatory, though it could also be optional depending on personal circumstances.\n",
      "\n",
      "5. **Environmental Guidelines**: Considerations for environmental responsibility, such as maintenance and storage practices, may apply.\n",
      "\n",
      "6. **Purchase Age**: Specific models might have purchase age requirements, possibly with parental consent for minors.\n",
      "\n",
      "7. **Importation**: Importing a lawnmower into Iceland could require obtaining a local one or complying with customs regulations.\n",
      "\n",
      "8. **Fines**: Potential penalties for non-compliance with safety standards exist.\n",
      "\n",
      "9. **Registration of Ownership**: Legal ownership must be listed in official records if the mower is lost or stolen.\n",
      "\n",
      "10. **Educational Requirements**: Courses on safe operation and storage might be necessary before obtaining a license.\n",
      "\n",
      "These considerations reflect Iceland's approach to regulating power equipment, balancing public safety with environmental and legal standards.CPU times: user 1.46 s, sys: 404 ms, total: 1.86 s\n",
      "Wall time: 1min 1s\n"
     ]
    }
   ],
   "source": [
    "%%time\n",
    "stream = ollama.generate(\n",
    "    model=LANGUAGE_MODEL, \n",
    "    prompt='What are the legal implications of owning a lawnmower in Iceland?', \n",
    "    stream=True,\n",
    "    options={\"temperature\": 0},\n",
    ")\n",
    "for chunk in stream:\n",
    "  print(chunk['response'], end='', flush=True)"
   ]
  },
  {
   "cell_type": "markdown",
   "id": "7552ddfd-c7df-4dfd-9a2d-f2104f7a48af",
   "metadata": {},
   "source": [
    "## Providing chat history with ollama.chat()\n",
    "\n",
    "This module allows you to provide a whole list of messages to the LLM, specifying if they come from the user, or the LLM itself (`assistant` role). This is how you keep a chat history, so you can ask for instance:\n",
    "\n",
    "    user: What is the capital of Japan?\n",
    "    assistant: Tokyo.\n",
    "    user: And Thailand?    "
   ]
  },
  {
   "cell_type": "code",
   "execution_count": 60,
   "id": "54ad8bd3-5408-4d66-b206-cd644471c230",
   "metadata": {},
   "outputs": [
    {
     "name": "stdout",
     "output_type": "stream",
     "text": [
      "<think>\n",
      "\n",
      "</think>\n",
      "\n",
      "The capital of Japan is Tokyo.\n"
     ]
    }
   ],
   "source": [
    "messages = [\n",
    "  {'role': 'user', 'content': 'What is the capital of Japan?'},\n",
    "]\n",
    "\n",
    "response = ollama.chat(LANGUAGE_MODEL, \n",
    "                       messages=messages,\n",
    "                      options={\"temperature\": 0})\n",
    "message = response['message']\n",
    "print(message['content'])\n",
    "messages.append(message)"
   ]
  },
  {
   "cell_type": "code",
   "execution_count": 61,
   "id": "4ecb5a39-4b08-436d-94c7-c9b46c6bc010",
   "metadata": {},
   "outputs": [
    {
     "name": "stdout",
     "output_type": "stream",
     "text": [
      "<think>\n",
      "Okay, so the user asked about the capitals of Japan and Thailand after I told them that Japan's capital is Tokyo. Now they're asking about Thailand.\n",
      "\n",
      "I should provide a clear answer first: Bangkok is Thailand's capital.\n",
      "\n",
      "But wait, maybe they want more details. They might be curious about why Bangkok is the capital or if there are any other capitals besides it.\n",
      "\n",
      "I should mention that while Bangkok is the official capital, sometimes people refer to Chiang Mai as well, especially in certain contexts like tourism.\n",
      "\n",
      "Also, I can add a bit about the significance of the capital cities—how they're often the administrative centers and have major economic activities.\n",
      "\n",
      "Keeping it friendly and informative would be best. Maybe offer further help if they need more details.\n",
      "</think>\n",
      "\n",
      "The capital of Thailand is Bangkok.\n"
     ]
    }
   ],
   "source": [
    "messages.append({'role': 'user', 'content': 'And Thailand?'})\n",
    "response = ollama.chat(LANGUAGE_MODEL, \n",
    "                       messages=messages,\n",
    "                      options={\"temperature\": 0})\n",
    "message = response['message']\n",
    "print(message['content'])\n",
    "messages.append(message)"
   ]
  }
 ],
 "metadata": {
  "kernelspec": {
   "display_name": "Python 3 (ipykernel)",
   "language": "python",
   "name": "python3"
  },
  "language_info": {
   "codemirror_mode": {
    "name": "ipython",
    "version": 3
   },
   "file_extension": ".py",
   "mimetype": "text/x-python",
   "name": "python",
   "nbconvert_exporter": "python",
   "pygments_lexer": "ipython3",
   "version": "3.13.3"
  }
 },
 "nbformat": 4,
 "nbformat_minor": 5
}
