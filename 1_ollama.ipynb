{
 "cells": [
  {
   "cell_type": "markdown",
   "id": "e2beffea-6b0f-4be1-858a-c5ec508a7766",
   "metadata": {},
   "source": [
    "# Running a Large Language Model locally\n",
    "\n",
    "To interact with LLMs I use [Ollama](https://ollama.com), which can then be used in the terminal or through Python.\n",
    "\n",
    "I obtained the 7B-parameter version of DeepSeek-R1, with the following command, which downloaded a 4.7GB file:\n",
    "\n",
    "    ollama pull deepseek-r1:7b\n",
    "\n",
    "Then I can chat with the model with:\n",
    "\n",
    "    ollama run deepseek-r1:7b\n",
    "\n",
    "Now let's do it in Python! For this to work, you need to allow Ollama to serve the model, either with\n",
    "\n",
    "    ollama serve\n",
    "\n",
    "in the terminal, or by starting the Ollama GUI."
   ]
  },
  {
   "cell_type": "code",
   "execution_count": 1,
   "id": "c01844e1-83e3-4cbe-a9f7-269f59e7d502",
   "metadata": {},
   "outputs": [],
   "source": [
    "import ollama\n",
    "\n",
    "LANGUAGE_MODEL = \"deepseek-r1:7b\""
   ]
  },
  {
   "cell_type": "markdown",
   "id": "3c4b5278-06c3-47cc-84af-2e81dfd89c8e",
   "metadata": {},
   "source": [
    "## Asking a question with `ollama.generate()`"
   ]
  },
  {
   "cell_type": "code",
   "execution_count": 2,
   "id": "79927abc-10cd-466f-8895-cd780a43f571",
   "metadata": {},
   "outputs": [
    {
     "name": "stdout",
     "output_type": "stream",
     "text": [
      "<think>\n",
      "Okay, so I want to know if the Sun is a star. From what I remember, the Sun is at the center of our solar system and it's really bright. But wait, isn't everything called a star when it's hot and glowing? Well, not exactly. Stars are typically categorized based on their brightness as seen from Earth, like main sequence stars which include our Sun.\n",
      "\n",
      "I think the Sun has been called different things historically. In ancient times, people might have referred to it as a planet or something else because it appears to move across the sky and doesn't emit light itself. But actually, we know now that the Sun is a star, emitting its own light through nuclear fusion in its core.\n",
      "\n",
      "So, if I list out what makes the Sun unique: it's a massive ball of gas with hydrogen in its core. It burns fuel using nuclear reactions to produce energy for billions of years. The surface is called the photosphere, and from there, energy is released into space as sunlight. This light travels through space and reaches Earth.\n",
      "\n",
      "But sometimes people get confused because Venus looks like a star in the sky, but it's not a star—it’s a planet that reflects sunlight. Similarly, the Moon doesn’t emit its own light either; it reflects the Sun's light during the day and the Moonlight at night. So, those aren't stars.\n",
      "\n",
      "Also, the Sun has other characteristics of a star: it creates elements through fusion, like helium, which helps make heavier elements necessary for life on Earth. Plus, it affects Earth's climate by varying its magnetic field over time, causing things like solar flares and sunspots.\n",
      "\n",
      "So putting this all together, yes, the Sun is indeed a star because it meets the criteria of having a luminous core where nuclear fusion occurs and emitting light and energy through space.\n",
      "</think>\n",
      "\n",
      "The Sun is indeed classified as a star. Here's why:\n",
      "\n",
      "1. **Core Composition**: The Sun has a hot, glowing core composed primarily of hydrogen, where nuclear fusion reactions occur.\n",
      "\n",
      "2. **Energy Emission**: These fusion processes generate large amounts of energy that escape the Sun's surface (photosphere) and travel through space to reach Earth as sunlight.\n",
      "\n",
      "3. **Luminosity and Characteristics**: The Sun emits light and energy in a way consistent with stars, including creating elements necessary for life on Earth and influencing Earth's climate.\n",
      "\n",
      "4. **Historical Context**: Historically, the Sun was mistaken for being a planet because it appeared to move across the sky, but modern understanding has corrected this misconception.\n",
      "\n",
      "In conclusion, the Sun meets all the criteria of a star, making it a key entity in our solar system and beyond.CPU times: user 98.5 ms, sys: 43.5 ms, total: 142 ms\n",
      "Wall time: 35.8 s\n"
     ]
    }
   ],
   "source": [
    "%%time\n",
    "stream = ollama.generate(model=LANGUAGE_MODEL, prompt=\"Is the Sun a star?\", stream=True)\n",
    "for chunk in stream:\n",
    "    print(chunk[\"response\"], end=\"\", flush=True)"
   ]
  },
  {
   "cell_type": "markdown",
   "id": "f25e0af7-5295-418b-ab3f-5f2f6e4947a3",
   "metadata": {},
   "source": [
    "## Asking the same question again"
   ]
  },
  {
   "cell_type": "code",
   "execution_count": 3,
   "id": "b65db2d6-c0c6-445f-86bb-f618c941dcf4",
   "metadata": {},
   "outputs": [
    {
     "name": "stdout",
     "output_type": "stream",
     "text": [
      "<think>\n",
      "Okay, so I'm trying to figure out if the Sun is a star. Hmm, let me think about what I know.\n",
      "\n",
      "First off, I remember that stars are massive balls of hot gas that emit light and heat. They fuse hydrogen into helium in their cores, which powers their energy output. The Sun is often referred to as the \"star\" because it's the brightest object in our solar system, right? But wait, isn't there a difference between stars and other celestial bodies like planets?\n",
      "\n",
      "Stars are classified based on their characteristics, such as temperature, size, and luminosity. They have to produce light through nuclear fusion, which is a process that converts hydrogen into helium. The Sun fits this because it's a main-sequence star, meaning it's in the stable part of its life cycle where fusion is happening.\n",
      "\n",
      "But then there are other objects like planets, comets, asteroids, and meteors. Planets orbit stars, so they're dependent on their host star for light and heat. The Sun doesn't count as a planet because it's too large, but does that mean it can still be considered a star?\n",
      "\n",
      "Wait, what about something like the Moon? It doesn't emit its own light; it reflects sunlight. So it's not a star. Similarly, planets don't have fusion going on inside them.\n",
      "\n",
      "I think I've heard of different categories: main-sequence stars, giants, dwarfs, etc. The Sun is definitely a main-sequence star because it fuses hydrogen in its core just like all other main-sequence stars do.\n",
      "\n",
      "So putting this together, the Sun meets the criteria for being a star because it's made of gas, it has a luminous core where fusion occurs, and it emits light and heat. It doesn't fit into any category of non-stellar objects since it doesn't have solid or gaseous characteristics that wouldn't involve fusion.\n",
      "\n",
      "I also remember that there are other stars in our galaxy, like Sirius and Betelgeuse, which are much brighter than the Sun. But regardless of their brightness, they all share similar properties: they're massive, hot, and fusing hydrogen into helium through nuclear reactions.\n",
      "\n",
      "Therefore, based on these points, I can conclude that yes, the Sun is indeed a star.\n",
      "</think>\n",
      "\n",
      "The Sun is classified as a main-sequence star. It is a massive ball of hot gas where nuclear fusion occurs in its core, converting hydrogen into helium, which powers its luminosity and heat emission. Unlike planets or other celestial bodies, which do not undergo fusion, the Sun's characteristics align with those of stars, making it a star indeed.CPU times: user 96.7 ms, sys: 37.9 ms, total: 135 ms\n",
      "Wall time: 31.3 s\n"
     ]
    }
   ],
   "source": [
    "%%time\n",
    "stream = ollama.generate(model=LANGUAGE_MODEL, prompt=\"Is the Sun a star?\", stream=True)\n",
    "for chunk in stream:\n",
    "    print(chunk[\"response\"], end=\"\", flush=True)"
   ]
  },
  {
   "cell_type": "markdown",
   "id": "576c319f-516d-4fac-998e-3226330c6ee6",
   "metadata": {},
   "source": [
    "Remark that we get a different output! The LLM provides a probability for each next word in the text, and Ollama picks one based on those probabilities, which makes every run different.\n",
    "\n",
    "## How to always get the same output\n",
    "\n",
    "If we want the output to always be the same, we can force it to always pick the most probable by setting the `temperature` parameter to zero:"
   ]
  },
  {
   "cell_type": "code",
   "execution_count": 4,
   "id": "f48f6031-7932-48cf-9754-4dad8af80ef9",
   "metadata": {},
   "outputs": [
    {
     "name": "stdout",
     "output_type": "stream",
     "text": [
      "<think>\n",
      "\n",
      "</think>\n",
      "\n",
      "Yes, Japan is located in Asia. It is an island country off the eastern coast of the Pacific Ocean and is part of East Asia.CPU times: user 8.62 ms, sys: 3.32 ms, total: 11.9 ms\n",
      "Wall time: 2.14 s\n"
     ]
    }
   ],
   "source": [
    "%%time\n",
    "stream = ollama.generate(\n",
    "    model=LANGUAGE_MODEL,\n",
    "    prompt=\"Is Japan in Asia?\",\n",
    "    stream=True,\n",
    "    options={\"temperature\": 0},\n",
    ")\n",
    "for chunk in stream:\n",
    "    print(chunk[\"response\"], end=\"\", flush=True)"
   ]
  },
  {
   "cell_type": "code",
   "execution_count": 5,
   "id": "c6578053-d2cf-4ec0-9b1d-f13051f46451",
   "metadata": {},
   "outputs": [
    {
     "name": "stdout",
     "output_type": "stream",
     "text": [
      "<think>\n",
      "\n",
      "</think>\n",
      "\n",
      "Yes, Japan is located in Asia. It is an island country off the eastern coast of the Pacific Ocean and is part of East Asia.CPU times: user 7.14 ms, sys: 3.18 ms, total: 10.3 ms\n",
      "Wall time: 1.92 s\n"
     ]
    }
   ],
   "source": [
    "%%time\n",
    "stream = ollama.generate(\n",
    "    model=LANGUAGE_MODEL,\n",
    "    prompt=\"Is Japan in Asia?\",\n",
    "    stream=True,\n",
    "    options={\"temperature\": 0},\n",
    ")\n",
    "for chunk in stream:\n",
    "    print(chunk[\"response\"], end=\"\", flush=True)"
   ]
  },
  {
   "cell_type": "markdown",
   "id": "7e2343a9-3f6e-4f91-83c1-d17d7603aaa3",
   "metadata": {},
   "source": [
    "Just because the model thinks it knows the answer doesn't mean it is correct! Example:"
   ]
  },
  {
   "cell_type": "code",
   "execution_count": 6,
   "id": "0146ffa3-11e4-417a-b456-7912eb5ab0fd",
   "metadata": {},
   "outputs": [
    {
     "name": "stdout",
     "output_type": "stream",
     "text": [
      "<think>\n",
      "\n",
      "</think>\n",
      "\n",
      "The Rolling Stones are one of the most iconic and influential rock bands in music history. Formed in 1962 in London, England, by Mick Jagger and Keith Richards, the band has evolved over the years with the addition of other members, including Charlie Chang (bass) and Bill Wyman (guitar). The Rolling Stones are known for their powerful stage presence, energetic performances, and a wide range of music that spans more than five decades.\n",
      "\n",
      "The band's music is characterized by its deep grooves, emotional lyrics, and a blend of rock, blues, and psychedelic elements. Some of their most famous songs include \"Brown Sugar,\" \"Paint It, Black,\" \"Satisfaction,\" \"Hey Jude,\" \"Paint the Sky,\" and \"Tattooed Love.\" The Rolling Stones have won numerous awards, including five Grammys, and have sold over 100 million records worldwide.\n",
      "\n",
      "In addition to their music, the Rolling Stones are celebrated for their live performances, which have captivated audiences around the world. Their discography includes several studio albums, such as \"Gimme Some of That,\" \"Brown Sugar,\" and \"Paint It, Black,\" as well as multiple greatest hits collections.\n",
      "\n",
      "The band's influence extends beyond rock music; they have inspired countless artists and continue to be a cornerstone of modern music. The Rolling Stones' legacy is not only in their music but also in their impact on the cultural landscape.CPU times: user 54.4 ms, sys: 21.4 ms, total: 75.8 ms\n",
      "Wall time: 17.5 s\n"
     ]
    }
   ],
   "source": [
    "%%time\n",
    "stream = ollama.generate(\n",
    "    model=LANGUAGE_MODEL,\n",
    "    prompt=\"Who are the Rolling Stones?\",\n",
    "    stream=True,\n",
    "    options={\"temperature\": 0},\n",
    ")\n",
    "for chunk in stream:\n",
    "    print(chunk[\"response\"], end=\"\", flush=True)"
   ]
  },
  {
   "cell_type": "markdown",
   "id": "7552ddfd-c7df-4dfd-9a2d-f2104f7a48af",
   "metadata": {},
   "source": [
    "## Providing chat history with `ollama.chat()`\n",
    "\n",
    "This module allows you to provide a whole list of messages to the LLM, specifying if they come from the `user`, or the LLM itself (`assistant`). This is how you keep a chat history, so you can ask for instance:\n",
    "\n",
    "    user: What is the capital of Japan?\n",
    "    assistant: Tokyo.\n",
    "    user: And Thailand?    \n",
    "    assistant: Bangkok."
   ]
  },
  {
   "cell_type": "code",
   "execution_count": 7,
   "id": "54ad8bd3-5408-4d66-b206-cd644471c230",
   "metadata": {},
   "outputs": [
    {
     "name": "stdout",
     "output_type": "stream",
     "text": [
      "<think>\n",
      "\n",
      "</think>\n",
      "\n",
      "The capital of Japan is Tokyo.\n"
     ]
    }
   ],
   "source": [
    "messages = [\n",
    "    {\"role\": \"user\", \"content\": \"What is the capital of Japan?\"},\n",
    "]\n",
    "\n",
    "response = ollama.chat(LANGUAGE_MODEL, messages=messages, options={\"temperature\": 0})\n",
    "message = response[\"message\"]\n",
    "print(message[\"content\"])\n",
    "messages.append(message)"
   ]
  },
  {
   "cell_type": "code",
   "execution_count": 8,
   "id": "4ecb5a39-4b08-436d-94c7-c9b46c6bc010",
   "metadata": {},
   "outputs": [
    {
     "name": "stdout",
     "output_type": "stream",
     "text": [
      "<think>\n",
      "Okay, so the user asked about the capitals of Japan and Thailand after I told them that Japan's capital is Tokyo. Now they're asking about Thailand.\n",
      "\n",
      "I should provide a clear answer first: Bangkok is Thailand's capital.\n",
      "\n",
      "But wait, maybe they want more details. They might be curious about why Bangkok is the capital or if there are any other capitals besides it.\n",
      "\n",
      "I should mention that while Bangkok is the official capital, sometimes people refer to Nonthaburi as well because of its economic importance.\n",
      "\n",
      "Also, I can add a bit about the significance of the capital in terms of governance and international presence.\n",
      "\n",
      "Keeping it friendly and informative would be best.\n",
      "</think>\n",
      "\n",
      "The capital of Thailand is Bangkok. It's also known as Nonthaburi in some contexts due to its economic and administrative significance. Bangkok is a major city in Thailand, serving as both its commercial, political, and cultural center.\n"
     ]
    }
   ],
   "source": [
    "messages.append({\"role\": \"user\", \"content\": \"And Thailand?\"})\n",
    "\n",
    "response = ollama.chat(LANGUAGE_MODEL, messages=messages, options={\"temperature\": 0})\n",
    "message = response[\"message\"]\n",
    "print(message[\"content\"])\n",
    "messages.append(message)"
   ]
  }
 ],
 "metadata": {
  "kernelspec": {
   "display_name": "Python 3 (ipykernel)",
   "language": "python",
   "name": "python3"
  },
  "language_info": {
   "codemirror_mode": {
    "name": "ipython",
    "version": 3
   },
   "file_extension": ".py",
   "mimetype": "text/x-python",
   "name": "python",
   "nbconvert_exporter": "python",
   "pygments_lexer": "ipython3",
   "version": "3.13.3"
  }
 },
 "nbformat": 4,
 "nbformat_minor": 5
}
