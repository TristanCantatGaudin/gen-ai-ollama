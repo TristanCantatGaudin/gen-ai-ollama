{
 "cells": [
  {
   "cell_type": "markdown",
   "id": "a5e80be6-0ac8-4819-9c04-9d300ace3931",
   "metadata": {},
   "source": [
    "# Querying a Pandas dataframe with a LLM\n",
    "\n",
    "Here we build an AI agent which generates Python code, then run this code and returns the answer to the user.\n",
    "This example uses `deepseek-r1:7b` locally, which does not always return answers in the desired format, so some requests end up crashing or needing extra formatting, but it can still perform remarkably well!\n",
    "\n",
    "First we make a df, for instance by querying astronomical data from the Gaia mission:"
   ]
  },
  {
   "cell_type": "code",
   "execution_count": 1,
   "id": "01bf0835-f343-4466-95fb-6960e0d4cf5d",
   "metadata": {},
   "outputs": [
    {
     "name": "stdout",
     "output_type": "stream",
     "text": [
      "INFO: Query finished. [astroquery.utils.tap.core]\n",
      "CPU times: user 391 ms, sys: 60.4 ms, total: 451 ms\n",
      "Wall time: 2.6 s\n"
     ]
    }
   ],
   "source": [
    "%%time\n",
    "from astroquery.gaia import Gaia\n",
    "\n",
    "query_string = \"\"\"SELECT l, b, phot_g_mean_mag, bp_rp, parallax, pmra, pmdec, parallax_error, pmra_error, pmdec_error\n",
    "  FROM gaiadr3.gaia_source_lite\n",
    "  WHERE random_index < 5000\"\"\"\n",
    "\n",
    "job = Gaia.launch_job_async(query=query_string, verbose=False)\n",
    "gaia_data = job.get_results() "
   ]
  },
  {
   "cell_type": "code",
   "execution_count": 2,
   "id": "7889afb1-673b-43a3-8958-a4ae52eb4958",
   "metadata": {},
   "outputs": [],
   "source": [
    "df_gaia = gaia_data.to_pandas()"
   ]
  },
  {
   "cell_type": "code",
   "execution_count": 3,
   "id": "740b7dae-6782-4b0c-889c-ed98f614296d",
   "metadata": {},
   "outputs": [
    {
     "data": {
      "text/plain": [
       "(5000, 10)"
      ]
     },
     "execution_count": 3,
     "metadata": {},
     "output_type": "execute_result"
    }
   ],
   "source": [
    "df_gaia.shape"
   ]
  },
  {
   "cell_type": "markdown",
   "id": "bbaceafa-85fd-4bb4-9754-88f9d04cdfcd",
   "metadata": {},
   "source": [
    "### Attempt using LlamaIndex\n",
    "\n",
    "https://docs.llamaindex.ai/en/stable/examples/query_engine/pandas_query_engine/\n",
    "\n",
    "LlamaIndex passes the result of `df.head()` to the LLM, along with a prompt asking to return an exectuable string.\n",
    "\n",
    "DeepSeek seems too chatty for the default prompts in LlamaIndex, so the actual execution of the code providing the answer ends up crashing! Let's see how it should work:"
   ]
  },
  {
   "cell_type": "code",
   "execution_count": 4,
   "id": "b0c7f100-d780-49fd-b803-c05665aec0fa",
   "metadata": {},
   "outputs": [],
   "source": [
    "import pandas as pd\n",
    "from llama_index.experimental.query_engine import PandasQueryEngine\n",
    "\n",
    "# Also specify that we use a local LLM through Ollama\n",
    "from llama_index.llms.ollama import Ollama\n",
    "llm_deepseek = Ollama(model=\"deepseek-r1:7b\", request_timeout=120.0, temperature=0.)\n",
    "\n",
    "query_engine = PandasQueryEngine(df=df_gaia, verbose=True, llm=llm_deepseek)"
   ]
  },
  {
   "cell_type": "code",
   "execution_count": 5,
   "id": "308c1c12-7873-45f6-bc01-e0fa9893aff9",
   "metadata": {},
   "outputs": [
    {
     "name": "stdout",
     "output_type": "stream",
     "text": [
      "INFO:httpx:HTTP Request: POST http://localhost:11434/api/chat \"HTTP/1.1 200 OK\"\n",
      "HTTP Request: POST http://localhost:11434/api/chat \"HTTP/1.1 200 OK\"\n",
      "> Pandas Instructions:\n",
      "```\n",
      "<think>\n",
      "Alright, so I'm trying to figure out how to determine the number of rows in the given pandas DataFrame called `df`. The user provided a sample output from `print(df.head())`, which shows the first five rows of the dataframe. They also included an example query asking for the number of rows and mentioned that the final answer should be an expression that can be evaluated with `eval()`.\n",
      "\n",
      "First, I recall that in pandas, dataframes have a method called `shape` which returns a tuple containing the number of rows and columns. So, `df.shape[0]` would give the number of rows. But since the user wants this as a Python expression to be evaluated using `eval()`, I need to construct an expression that returns this value.\n",
      "\n",
      "I think about how to structure this expression. The simplest way is just to call `len(df)` because the length of the dataframe (which is essentially the number of rows) can also be obtained by using the built-in Python function `len()`. Alternatively, using `df.shape[0]` directly would work too.\n",
      "\n",
      "However, since the user wants an expression that can be evaluated with `eval()`, I should make sure it's a valid string. So, wrapping this in an f-string or just as a direct expression might be necessary. But looking at the example provided by the user, they didn't use any formatting and directly wrote the code.\n",
      "\n",
      "So, putting it all together, the expression to find the number of rows would be `len(df)` or `df.shape[0]`. Since both are valid, but perhaps using `len(df)` is more straightforward because it's a single function call without accessing an attribute. \n",
      "\n",
      "I also need to ensure that I don't include any unnecessary parts like quotes around the expression since the user specified not to quote it and just print the expression.\n",
      "\n",
      "Therefore, the final answer should be either:\n",
      "- `len(df)`\n",
      "or\n",
      "- `df.shape[0]`\n",
      "\n",
      "But considering simplicity and directness, using `len(df)` is probably better.\n",
      "</think>\n",
      "\n",
      "To find the number of rows in the dataframe `df`, you can use the `len()` function. This will return the total number of rows.\n",
      "\n",
      "The expression to determine the number of rows is:\n",
      "```python\n",
      "len(df)\n",
      "```\n",
      "\n",
      "You can evaluate this expression using Python's `eval()` function as follows:\n",
      "```python\n",
      "print(eval(\"len(df)\"))\n",
      "```\n",
      "\n",
      "This will output the number of rows in your dataframe.\n",
      "```\n",
      "> Pandas Output: There was an error running the output as Python code. Error message: name 'python' is not defined\n",
      "CPU times: user 15.7 ms, sys: 2.8 ms, total: 18.5 ms\n",
      "Wall time: 35.7 s\n"
     ]
    },
    {
     "name": "stderr",
     "output_type": "stream",
     "text": [
      "Traceback (most recent call last):\n",
      "  File \"/Users/tristan/playground/gen-ai-ollama/.venv/lib/python3.13/site-packages/llama_index/experimental/query_engine/pandas/output_parser.py\", line 44, in default_output_processor\n",
      "    safe_exec(ast.unparse(module), {}, local_vars)  # type: ignore\n",
      "    ~~~~~~~~~^^^^^^^^^^^^^^^^^^^^^^^^^^^^^^^^^^^^^\n",
      "  File \"/Users/tristan/playground/gen-ai-ollama/.venv/lib/python3.13/site-packages/llama_index/experimental/exec_utils.py\", line 171, in safe_exec\n",
      "    return exec(__source, _get_restricted_globals(__globals), __locals)\n",
      "  File \"<string>\", line 1, in <module>\n",
      "NameError: name 'python' is not defined\n"
     ]
    }
   ],
   "source": [
    "%%time\n",
    "response = query_engine.query(\n",
    "    \"How many rows does this dataframe contain?\",\n",
    ")"
   ]
  },
  {
   "cell_type": "markdown",
   "id": "86107ed0-7fd7-4267-992c-121e0650d977",
   "metadata": {},
   "source": [
    "This failed because the LLM we used does not return output in the exact format expected by the LlamaIndex agent. \n",
    "\n",
    "We are going to do some manual coding to work around that.\n",
    "\n",
    "### Building our agent from scratch\n",
    "\n",
    "We pass some information about the df in the prompt, then ask the LLM to produce code. Sometimes I get code on the last line, most of the time I get it wrapped in triple backquotes. Sometimes I also get another sentence of text after the answer. Sometimes the code is correct but wrapped in a `print()` which makes it return a string. For reliable a consistent output, a more powerful model should ensure the output is always formatted properly."
   ]
  },
  {
   "cell_type": "code",
   "execution_count": 6,
   "id": "6194ff1f-0f2a-4302-bb7a-9fe371ec21c9",
   "metadata": {},
   "outputs": [],
   "source": [
    "import ollama\n",
    "\n",
    "class PandasAgent():\n",
    "    def __init__(self, df: pd.DataFrame):\n",
    "        self.df = df\n",
    "\n",
    "    def query(self, user_question: str, ollama_llm: str):\n",
    "        df = self.df\n",
    "        df_str = df.head()\n",
    "        self.pandas_prompt = (\n",
    "            \"CONTEXT:\\n\"\n",
    "            \"You are working with a pandas dataframe in Python.\\n\"\n",
    "            \"The name of the dataframe is `df`.\\n\"\n",
    "            \"This is the result of `print(df.head())`:\\n\"\n",
    "            f\"{df_str}\\n\\n\"\n",
    "            \"INSTRUCTIONS:\\n\"\n",
    "            \"Convert the user request to a one-liner executable Python code using Pandas.\\n\"\n",
    "            \"Reply with a single line.\"\n",
    "            \"The question is:\\n\"\n",
    "            f\"{user_question}\\n\"\n",
    "            \"If there are more than one way of solving it, just choose one.\\n\"\n",
    "            \"IMPORTANT:\\n\"\n",
    "            \"Your reply should not contain any text, only code.\"\n",
    "        )\n",
    "        self.full_output = ollama.generate(model=ollama_llm,\n",
    "                                            prompt=self.pandas_prompt,\n",
    "                                            options={\"temperature\": 0},\n",
    "                                            )\n",
    "\n",
    "        self.code_response = self.full_output.response.split(\"```python\\n\")[-1].split('\\n')[0]\n",
    "        # deal with print(...)\n",
    "        if self.code_response.startswith(\"print(\"):\n",
    "            self.code_response = self.code_response[6:-1]\n",
    "            \n",
    "        try:\n",
    "            self.actual_result = eval(self.code_response)\n",
    "            return self.actual_result\n",
    "        except:\n",
    "            print(self.code_response,\"cannot be evaluated.\")\n",
    "            return None\n"
   ]
  },
  {
   "cell_type": "code",
   "execution_count": 7,
   "id": "dc64a116-939b-47df-9682-39950c3d0140",
   "metadata": {},
   "outputs": [],
   "source": [
    "agent_df_gaia = PandasAgent(df_gaia)"
   ]
  },
  {
   "cell_type": "code",
   "execution_count": 8,
   "id": "8e81c1ca-7504-4371-b345-e73faade684c",
   "metadata": {},
   "outputs": [
    {
     "name": "stdout",
     "output_type": "stream",
     "text": [
      "INFO:httpx:HTTP Request: POST http://127.0.0.1:11434/api/generate \"HTTP/1.1 200 OK\"\n",
      "HTTP Request: POST http://127.0.0.1:11434/api/generate \"HTTP/1.1 200 OK\"\n",
      "CPU times: user 3.58 ms, sys: 1.17 ms, total: 4.74 ms\n",
      "Wall time: 25 s\n"
     ]
    }
   ],
   "source": [
    "%%time\n",
    "answer = agent_df_gaia.query('How many rows are there in the dataframe?', ollama_llm='deepseek-r1:7b')"
   ]
  },
  {
   "cell_type": "code",
   "execution_count": 9,
   "id": "0714fcd1-436c-4e4c-86ca-f76b9cc2b6b5",
   "metadata": {},
   "outputs": [
    {
     "name": "stdout",
     "output_type": "stream",
     "text": [
      "The result is: 5000\n",
      "<think>\n",
      "Okay, so I'm trying to figure out how to determine the number of rows in a pandas DataFrame using Python. The user provided a sample dataframe and wants to know the method for this.\n",
      "\n",
      "First, I remember that pandas DataFrames have some built-in functions or attributes related to their shape. Oh right, there's the `shape` attribute which returns a tuple indicating the number of rows and columns. So if I access `df.shape`, it should give me something like (number_of_rows, number_of_columns).\n",
      "\n",
      "Looking at the sample dataframe provided, when they printed `df.head()`, it showed 5 rows. So using `len(df)` would also return 5 because that's another way to get the total number of rows.\n",
      "\n",
      "But since the user mentioned that if there are multiple ways, just choose one, I can go with either method. However, using `shape` is more direct and efficient because it gives both dimensions in one attribute, whereas `len(df)` would require an extra step if someone wanted columns as well, but here we only need rows.\n",
      "\n",
      "So the most concise code would be to access `df.shape[0]`, which directly gives the number of rows. Alternatively, using `len(df)` is also straightforward and perhaps more readable for some people.\n",
      "\n",
      "I think both are correct, but since the user prefers a one-liner, either should work. I'll choose `print(len(df))` because it's simple and clear.\n",
      "</think>\n",
      "\n",
      "To determine the number of rows in the dataframe, we can use the `len()` function on the dataframe object.\n",
      "\n",
      "```python\n",
      "print(len(df))\n",
      "```\n"
     ]
    }
   ],
   "source": [
    "print('The result is:',answer)\n",
    "#print(agent_df_gaia.pandas_prompt)\n",
    "print(agent_df_gaia.full_output.response)"
   ]
  },
  {
   "cell_type": "markdown",
   "id": "037f2e45-4a7d-4336-804c-5bf246abe45c",
   "metadata": {},
   "source": [
    "It worked!!!"
   ]
  },
  {
   "cell_type": "markdown",
   "id": "fd60bf99-3b18-49a1-aaff-b04c28960b83",
   "metadata": {},
   "source": [
    "## Trying a more complex query"
   ]
  },
  {
   "cell_type": "code",
   "execution_count": 10,
   "id": "b2bbd86a-ed12-40d3-b7fa-39e8d951f45a",
   "metadata": {},
   "outputs": [
    {
     "name": "stdout",
     "output_type": "stream",
     "text": [
      "INFO:httpx:HTTP Request: POST http://127.0.0.1:11434/api/generate \"HTTP/1.1 200 OK\"\n",
      "HTTP Request: POST http://127.0.0.1:11434/api/generate \"HTTP/1.1 200 OK\"\n"
     ]
    }
   ],
   "source": [
    "answer = agent_df_gaia.query(\"\"\"Give the median parallax of the df rows grouped by integer value of their phot_g_mean_mag. \n",
    "Note that the column phot_g_mean_mag contains some NaN values.\"\"\",\n",
    "ollama_llm='deepseek-r1:7b')"
   ]
  },
  {
   "cell_type": "code",
   "execution_count": 11,
   "id": "912ac4ea-283a-428d-add6-0f701844ecff",
   "metadata": {},
   "outputs": [
    {
     "name": "stdout",
     "output_type": "stream",
     "text": [
      "The result is: phot_g_mean_mag\n",
      "10.0    1.570822\n",
      "11.0    1.604811\n",
      "12.0    0.848711\n",
      "13.0    1.056185\n",
      "14.0    0.659533\n",
      "15.0    0.461134\n",
      "16.0    0.377964\n",
      "17.0    0.328263\n",
      "18.0    0.258979\n",
      "19.0    0.296725\n",
      "20.0    0.323012\n",
      "21.0         NaN\n",
      "Name: parallax, dtype: float64\n",
      "<think>\n",
      "Okay, so I need to figure out how to calculate the median parallax for each group in the dataframe based on the integer value of phot_g_mean_mag. The user mentioned that phot_g_mean_mag has some NaN values, so I have to handle those.\n",
      "\n",
      "First, I remember that pandas can group data using the groupby function. So I'll start by grouping the dataframe 'df' by the 'phot_g_mean_mag' column. But since there are NaNs, I should convert the values to integers after dropping the NaNs to ensure proper grouping.\n",
      "\n",
      "Wait, how do I handle the NaNs? Maybe I can drop them first before converting to integer. So I'll use df.dropna(subset=['phot_g_mean_mag']) to exclude rows where phot_g_mean_mag is NaN. Then, I'll cast that column to integers with astype(int).\n",
      "\n",
      "Once grouped, I need to calculate the median of the 'parallax' column for each group. The median is more robust than the mean and will handle any outliers better, which might be useful if the data has extreme values.\n",
      "\n",
      "Putting it all together, I can use the agg function on the grouped object to apply the median to 'parallax'. So the code would look like:\n",
      "\n",
      "df.groupby(df.dropna(subset=['phot_g_mean_mag'])['phot_g_mean_mag'].astype(int))['parallax'].median()\n",
      "\n",
      "Wait, but is there a more efficient way? Maybe I can chain the dropna and astype in the groupby key. Like df.groupby([lambda x: x phot_g_mean_mag.dropna().astype(int)], but that might not be correct syntax.\n",
      "\n",
      "Alternatively, perhaps it's better to first process the 'phot_g_mean_mag' column separately. But for a one-liner, combining everything into the groupby is acceptable.\n",
      "\n",
      "I think the initial code I wrote should work. It groups by the integer values of phot_g_mean_mag after dropping NaNs and then calculates the median parallax for each group.\n",
      "</think>\n",
      "\n",
      "To calculate the median parallax for rows grouped by the integer value of their phot_g_mean_mag, handling NaN values:\n",
      "\n",
      "```python\n",
      "df.groupby(df['phot_g_mean_mag'].dropna().astype(int))['parallax'].median()\n",
      "```\n"
     ]
    }
   ],
   "source": [
    "print('The result is:',answer)\n",
    "#print(agent_df_gaia.pandas_prompt)\n",
    "print(agent_df_gaia.full_output.response)"
   ]
  },
  {
   "cell_type": "markdown",
   "id": "f3007ce9-85af-4722-abf4-3e3dc306dfe0",
   "metadata": {},
   "source": [
    "It worked! The LLM found the right solution AND returned the one-liner in a parsable format.\n",
    "\n",
    "## Another complex query"
   ]
  },
  {
   "cell_type": "code",
   "execution_count": 12,
   "id": "3e7d0f7e-e9ca-4354-a99c-13df4fe2de04",
   "metadata": {},
   "outputs": [
    {
     "name": "stdout",
     "output_type": "stream",
     "text": [
      "INFO:httpx:HTTP Request: POST http://127.0.0.1:11434/api/generate \"HTTP/1.1 200 OK\"\n",
      "HTTP Request: POST http://127.0.0.1:11434/api/generate \"HTTP/1.1 200 OK\"\n"
     ]
    }
   ],
   "source": [
    "answer = agent_df_gaia.query(\"\"\"Is the mean value of l larger than the mean value of b?\"\"\",\n",
    "ollama_llm='deepseek-r1:7b')"
   ]
  },
  {
   "cell_type": "code",
   "execution_count": 13,
   "id": "5a4e413a-c4fb-4174-9e5c-a0840b0daece",
   "metadata": {},
   "outputs": [
    {
     "name": "stdout",
     "output_type": "stream",
     "text": [
      "The result is: True\n",
      "<think>\n",
      "Okay, so I need to figure out how to determine if the mean value of 'l' is larger than the mean value of 'b' in the given pandas DataFrame. Let me break this down step by step.\n",
      "\n",
      "First, I know that in pandas, calculating the mean of a column is straightforward using the .mean() method. So for each column 'l' and 'b', I can compute their respective means.\n",
      "\n",
      "The user's question is asking whether the average of 'l' is greater than the average of 'b'. That translates to comparing these two means. If df['l'].mean() is greater than df['b'].mean(), then the answer is yes; otherwise, no.\n",
      "\n",
      "I should write a one-liner that performs this comparison. So combining everything, it would be something like (df['l'] > df['b']).mean(). But wait, actually, I just need to check if the mean of 'l' is greater than the mean of 'b'. So comparing the two means directly.\n",
      "\n",
      "Alternatively, another approach could be to subtract the mean of 'b' from the mean of 'l' and see if it's positive. That would be df['l'].mean() - df['b'].mean() > 0. But both approaches achieve the same result.\n",
      "\n",
      "I think using the subtraction method is more direct for this comparison, so I'll go with that.\n",
      "</think>\n",
      "\n",
      "To determine if the mean of column `l` is greater than the mean of column `b`, we can use pandas' `.mean()` function to calculate both means and then compare them. \n",
      "\n",
      "Here's the one-liner code:\n",
      "\n",
      "```python\n",
      "print((df['l'].mean() > df['b'].mean()))\n",
      "```\n",
      "\n",
      "This line calculates the mean of each column and checks if the mean of `l` is greater than the mean of `b`, printing the boolean result.\n",
      "\n",
      "Another approach could be to subtract the means directly, but this method is equally effective:\n",
      "\n",
      "```python\n",
      "print((df['l'] - df['b']).mean() > 0)\n",
      "```\n",
      "\n",
      "Both lines achieve the same goal but present slightly different ways to compare the two means.\n"
     ]
    }
   ],
   "source": [
    "print('The result is:',answer)\n",
    "#print(agent_df_gaia.pandas_prompt)\n",
    "print(agent_df_gaia.full_output.response)"
   ]
  },
  {
   "cell_type": "markdown",
   "id": "c6602bc3-90e2-4109-b1b7-13cf5c2f1521",
   "metadata": {},
   "source": [
    "Correct again! This time it forgot to return a single solution, and added a lot of text around the answers too, but our parsing scheme was still able to grab the executable snippet of code."
   ]
  }
 ],
 "metadata": {
  "kernelspec": {
   "display_name": "Python 3 (ipykernel)",
   "language": "python",
   "name": "python3"
  },
  "language_info": {
   "codemirror_mode": {
    "name": "ipython",
    "version": 3
   },
   "file_extension": ".py",
   "mimetype": "text/x-python",
   "name": "python",
   "nbconvert_exporter": "python",
   "pygments_lexer": "ipython3",
   "version": "3.13.3"
  }
 },
 "nbformat": 4,
 "nbformat_minor": 5
}
