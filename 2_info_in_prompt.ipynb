{
 "cells": [
  {
   "cell_type": "markdown",
   "id": "99a712ef-4018-4387-8c7f-16b2cc8c8f06",
   "metadata": {},
   "source": [
    "# Passing information to the LLM"
   ]
  },
  {
   "cell_type": "code",
   "execution_count": 1,
   "id": "cf2efd67-ffd8-4111-8711-48acdfc08a9c",
   "metadata": {},
   "outputs": [],
   "source": [
    "import ollama\n",
    "LANGUAGE_MODEL = 'deepseek-r1:7b'"
   ]
  },
  {
   "cell_type": "markdown",
   "id": "5ac6cddd-8692-4420-bace-b655967057b2",
   "metadata": {},
   "source": [
    "## A simple question...\n",
    "\n",
    "...to which the model will confidently return a very wrong answer."
   ]
  },
  {
   "cell_type": "code",
   "execution_count": 9,
   "id": "635acda8-a770-4346-a16c-f1f89204b694",
   "metadata": {},
   "outputs": [
    {
     "name": "stdout",
     "output_type": "stream",
     "text": [
      "<think>\n",
      "\n",
      "</think>\n",
      "\n",
      "Shane MacGowan is a Scottish singer-songwriter and actor who gained popularity in the late 1980s with his work on the band Status Quo. He played a significant role as the lead vocalist and guitarist for Status Quo, which achieved several hits during their career. Shane MacGowan passed away in 2005 after battling alcoholism. His music has left a lasting impact on many fans, and he is remembered for his contributions to the British music scene.CPU times: user 157 ms, sys: 45.7 ms, total: 203 ms\n",
      "Wall time: 6.6 s\n"
     ]
    }
   ],
   "source": [
    "%%time\n",
    "\n",
    "query = \"\"\"Who was Shane MacGowan?\"\"\"\n",
    "\n",
    "stream = ollama.generate(\n",
    "    model=LANGUAGE_MODEL, \n",
    "    prompt=query, \n",
    "    stream=True,\n",
    "    options={\"temperature\": 0},\n",
    ")\n",
    "\n",
    "for chunk in stream:\n",
    "  print(chunk['response'], end='', flush=True)"
   ]
  },
  {
   "cell_type": "markdown",
   "id": "72a1422f-6363-4889-aa69-91fb5c64a6cf",
   "metadata": {},
   "source": [
    "## Now passing information\n",
    "\n",
    "The model will take time to think, and still return some incorrect information."
   ]
  },
  {
   "cell_type": "code",
   "execution_count": 10,
   "id": "a35b91c0-be47-4df1-a05c-b38d6b868875",
   "metadata": {},
   "outputs": [
    {
     "name": "stdout",
     "output_type": "stream",
     "text": [
      "<think>\n",
      "Okay, so I need to figure out who Shane MacGowan is. From what I remember, he's connected with the Pogues, which I think is a British-Irish band known for their punk rock style. Shane Patrick Lysaght MacGowan sounds like his full name, but I'm not entirely sure about all those parts.\n",
      "\n",
      "Wait, so Shane Patrick Lysaght MacGowan—does that mean he has multiple last names? Like Patrick and Lysaght are different? Or is it just a longer version of his surname? I think in the context of the Pogues, his full name might be more accurately represented as Shane Patrick MacGowan. Maybe \"Lysaght\" was an older name or something.\n",
      "\n",
      "He's the lead vocalist and primary lyricist for the Pogues. The Pogues were a big deal in the British punk scene during the late 70s and early 80s. They had a lot of hits, like \"The Boys Are Back in Town\" and \"I Still Haven't Found What I'm Looking For.\" Those are iconic songs that I recognize from their influence on alternative rock too.\n",
      "\n",
      "Shane's voice was really distinctive with his gravelly tone and energetic delivery. He also contributed to other projects after the Pogues broke up, but he's most recognized for his role in the band. I think he's still active today, maybe doing some solo work or collaborations.\n",
      "\n",
      "So putting it all together, Shane MacGowan is the lead singer of the Pogues, a legendary British-Irish punk rock band. He's known for his vocals and lyrics that influenced many musicians. His full name combines Patrick Lysaght with MacGowan, but I think in most contexts, people refer to him as Shane Patrick MacGowan.\n",
      "\n",
      "I should also consider if there are any other Shane MacGowans from different fields or bands, but since the question is about the Pogues, that's probably the main one. He's definitely a key figure in British punk history.\n",
      "</think>\n",
      "\n",
      "Shane Patrick MacGowan, known as Shane MacGowan, was the lead vocalist and primary lyricist of the legendary British-Irish punk rock band the Pogues. Born on April 26, 1957, in County Wexford, Ireland, he gained fame for his distinctive gravelly voice and energetic performances. The Pogues were instrumental in popularizing alternative rock and punk rock during the late 1970s and early 1980s, with hits like \"The Boys Are Back in Town\" and \"I Still Haven't Found What I'm Looking For.\" Shane's contributions extended beyond the Pogues; he has also been active in solo projects. His influence on music continues to be felt today.CPU times: user 859 ms, sys: 235 ms, total: 1.09 s\n",
      "Wall time: 34.9 s\n"
     ]
    }
   ],
   "source": [
    "%%time\n",
    "\n",
    "query = \"\"\"Shane Patrick Lysaght MacGowan was a British-born Irish singer-songwriter and musician, \n",
    "best known as the lead vocalist and primary lyricist of Celtic punk band the Pogues.\n",
    "\n",
    "Who was Shane MacGowan?\"\"\"\n",
    "\n",
    "stream = ollama.generate(\n",
    "    model=LANGUAGE_MODEL, \n",
    "    prompt=query, \n",
    "    stream=True,\n",
    "    options={\"temperature\": 0},\n",
    ")\n",
    "\n",
    "for chunk in stream:\n",
    "  print(chunk['response'], end='', flush=True)"
   ]
  },
  {
   "cell_type": "markdown",
   "id": "b6903f74-c3e8-44d3-b816-75d16a934b49",
   "metadata": {},
   "source": [
    "## Passing an entire Wikipedia article\n",
    "\n",
    "Here we query an article from Wikipedia, pass it to the model, then ask it to answer the question based on this information. The `exintro` parameter means that we only request the introduction of the article.\n",
    "\n",
    "It does much better job!"
   ]
  },
  {
   "cell_type": "code",
   "execution_count": 66,
   "id": "4f411422-1baf-4556-8393-96e77c6a0772",
   "metadata": {},
   "outputs": [],
   "source": [
    "import urllib.request, json \n",
    "with urllib.request.urlopen(\"https://en.wikipedia.org/w/api.php?format=json&action=query&prop=extracts&exlimit=max&explaintext&exintro&titles=Shane_MacGowan&redirects=\") as url:\n",
    "    wikipedia_data = json.load(url)\n",
    "    #print(wikipedia_data)\n",
    "article_text = list(wikipedia_data['query']['pages'].values())[0]['extract']"
   ]
  },
  {
   "cell_type": "code",
   "execution_count": 67,
   "id": "fe6c4873-a438-4ffc-90b0-c4b68fa86e83",
   "metadata": {},
   "outputs": [
    {
     "name": "stdout",
     "output_type": "stream",
     "text": [
      "<think>\n",
      "Okay, so I need to figure out who Shane MacGowan is based solely on the provided Wikipedia article. Let me read through the article carefully and pick out the key points.\n",
      "\n",
      "First, the article starts by introducing Shane Patrick Lysaght MacGowan as a British-born Irish singer-songwriter and musician. He's best known for being the lead vocalist and primary lyricist of the Celtic punk band the Pogues. That's his main claim to fame.\n",
      "\n",
      "The article mentions that he gained recognition for his lyrics, which often focused on the Irish emigrant experience. So, his music has a strong theme related to immigration from Ireland. Additionally, he was noted for his lifestyle, particularly his heavy use of alcohol and drugs, which seems to have impacted both his personal life and public image.\n",
      "\n",
      "His early life is briefly touched upon: born in Kent, England, to Irish parents, he spent his early years in Tipperary before moving back to England at age six. His academic journey includes attending Holmewood House preparatory school and winning a literary scholarship to Westminster School, but he was expelled for drug offenses during his second year.\n",
      "\n",
      "He then got into the London punk scene under the alias Shane O'Hooligan, working various jobs like gigging and record shop work, and even creating a punk fanzine. In 1977, he formed the band Nipple Erectors with Shanne Bradley, which later became known as The Nips.\n",
      "\n",
      "In 1982, along with Spider Stacy and Jem Finer, he co-founded the Pogues, renaming their previous band Pogue Mahone after anglicizing an Irish phrase. He was a key songwriter and lead vocalist on their first five albums, including \"Rum Sodomy & the Lash\" in 1985 and \"If I Should Fall from Grace with God\" in 1988, which was both critically acclaimed and commercially successful.\n",
      "\n",
      "The Pogues had some issues during a 1991 tour in Japan due to MacGowan's drug dependency affecting their performances. He then formed a new band, Shane MacGowan and The Popes, releasing two albums: \"The Church of the Holy Spook\" in 1994 and \"That Woman's Got Me Drinking\" featuring Johnny Depp in 1994.\n",
      "\n",
      "After leaving the Pogues, he released solo singles like \"What a Wonderful World\" with Nick Cave, \"Haunted\" with Sinéad O'Connor, and \"My Way.\" He also collaborated with other artists such as the Jesus and Mary Chain, Dropkick Murphys, and Cruachan.\n",
      "\n",
      "In 2001, he rejoined the Pogues for reunion shows until the band dissolved in 2014. Later that year, he married Victoria Mary Clarke. In 2023, he passed away from pneumonia in Dublin at age 65.\n",
      "\n",
      "So, putting this all together, Shane MacGowan was a multi-talented musician who was part of the Pogues, known for his intense drug use, and his impactful lyrics about the Irish experience.\n",
      "</think>\n",
      "\n",
      "Shane Patrick Lysaght MacGowan was an influential British-born Irish singer-songwriter and musician. He is best known as the lead vocalist and primary lyricist of the Celtic punk band The Pogues. His music often explored themes related to the Irish emigrant experience, and he gained fame for his intense use of alcohol and drugs, which affected both his personal life and public image. MacGowan co-founded The Pogues in 1982 with Spider Stacy and Jem Finer, renaming their previous band after anglicizing an Irish phrase. He released several studio albums and collaborations before rejoining the Pogues for reunion tours until its dissolution in 2014. He later married Victoria Mary Clarke and passed away from pneumonia in Dublin at age 65.CPU times: user 1.23 s, sys: 322 ms, total: 1.55 s\n",
      "Wall time: 1min 48s\n"
     ]
    }
   ],
   "source": [
    "%%time\n",
    "query = f\"\"\"This is an article from Wikipedia:\n",
    "\n",
    "====\n",
    "{article_text}\n",
    "====\n",
    "\n",
    "Based only on the above article, answer the following question:\n",
    "\n",
    "Who was Shane MacGowan?\"\"\"\n",
    "\n",
    "stream = ollama.generate(\n",
    "    model=LANGUAGE_MODEL, \n",
    "    prompt=query, \n",
    "    stream=True,\n",
    "    options={\"temperature\": 0},\n",
    ")\n",
    "\n",
    "for chunk in stream:\n",
    "  print(chunk['response'], end='', flush=True)"
   ]
  },
  {
   "cell_type": "code",
   "execution_count": 68,
   "id": "4ae3a529-c532-4de4-8fdd-dc4edb23b0c1",
   "metadata": {},
   "outputs": [
    {
     "name": "stdout",
     "output_type": "stream",
     "text": [
      "<think>\n",
      "Alright, I need to figure out which countries and cities are mentioned in the given Wikipedia article about Shane Patrick Lysaght MacGowan. Let me read through the article carefully.\n",
      "\n",
      "First, it mentions he was born in Kent, England. So, England is definitely one of the countries listed. The city there would be Kent, but since Kent is a region within England, maybe just England as the country and perhaps the city if needed.\n",
      "\n",
      "Next, the article talks about his early childhood in Tipperary, Ireland. So Ireland is another country mentioned, and Tipperary is a city or town in Ireland that's noted for this.\n",
      "\n",
      "Then, when he moved back to England with his family at age six, so again England comes up, but since he was born there, maybe just listing it once is enough unless the article specifies different cities each time. But in this case, it's the same country twice, so probably just England and Tipperary.\n",
      "\n",
      "Looking further, when discussing his move to London for school, it mentions Holmewood House preparatory school and then Westminster School. So London is another city mentioned in the UK.\n",
      "\n",
      "He spent some time in psychiatric care at Bethlem Royal Hospital, which is a well-known hospital in the UK, specifically in Liverpool, I believe. Wait, no, Bethlem Royal Hospital was actually in ChESHAM, Hertfordshire, but it's often associated with Liverpool because of its history. However, since the article doesn't specify the location beyond mentioning the name, maybe just listing it as a place without the city.\n",
      "\n",
      "He also mentions moving to Japan for a tour, so Japan is another country mentioned.\n",
      "\n",
      "In terms of cities within those countries: Tipperary in Ireland, London and Liverpool (though Bethlem is more associated with ChESHAM) but perhaps just the country names are needed unless specific cities are required. The article doesn't specify the exact city where Bethlem is located beyond its name, so maybe just listing it as a place.\n",
      "\n",
      "Looking at the other parts: he formed new bands in England and Ireland again, but those are already covered under their respective countries.\n",
      "\n",
      "So compiling all this, the countries mentioned are England, Ireland, and Japan. The cities or regions within them are Kent (England), Tipperary (Ireland), London (UK), and Bethlem Royal Hospital (a place, though not a city). Since the question asks for countries and cities named in the article, I think it's safe to list the main ones: England, Ireland, Japan, and perhaps the specific cities where relevant.\n",
      "\n",
      "Wait, but the user might be asking for all places mentioned as cities or regions. Let me check again:\n",
      "\n",
      "- Born in Kent, England.\n",
      "- Spent early childhood in Tipperary, Ireland.\n",
      "- Moved back to England with family at age six.\n",
      "- Attended schools in London (Westminster).\n",
      "- Mentions Bethlem Royal Hospital but doesn't specify the city; it's a place in ChESHAM, Hertfordshire, but often associated with Liverpool due to its history. However, without specific info, maybe just list it as a place.\n",
      "\n",
      "So cities mentioned: London and perhaps none else beyond that. The other locations are countries or places like England, Ireland, Japan, and Bethlem Royal Hospital (a place).\n",
      "\n",
      "But the question is about countries and cities named in the article. So I think the main ones are:\n",
      "\n",
      "Countries:\n",
      "- England\n",
      "- Ireland\n",
      "- Japan\n",
      "\n",
      "Cities:\n",
      "- London\n",
      "- Tipperary (Ireland)\n",
      "- Kent (England)\n",
      "\n",
      "Wait, but Tipperary is a city/town in Ireland, so it's both a country and a city within that country.\n",
      "\n",
      "So to list all countries and cities mentioned:\n",
      "\n",
      "Countries: England, Ireland, Japan.\n",
      "\n",
      "Cities: London, Tipperary, Kent.\n",
      "\n",
      "But the user might be asking for all places named as cities or regions. So perhaps including the specific locations where applicable.\n",
      "\n",
      "Wait, in the article, it's mentioned he was born in Kent, which is a place in England. Then he spent time in Tipperary, Ireland. He moved to London for school. Bethlem Royal Hospital is a place but not a city. The Pogues' name comes from an Irish phrase, so that's Ireland.\n",
      "\n",
      "So the final list would include:\n",
      "\n",
      "Countries: England, Ireland, Japan.\n",
      "\n",
      "Cities: London, Tipperary, Kent.\n",
      "\n",
      "Additionally, Bethlem Royal Hospital is a place, but since it's not a city, maybe just listing it as a location without the city name unless specified.\n",
      "</think>\n",
      "\n",
      "The article mentions the following countries and cities:\n",
      "\n",
      "**Countries:**\n",
      "- England\n",
      "- Ireland\n",
      "- Japan\n",
      "\n",
      "**Cities:**\n",
      "- London (UK)\n",
      "- Tipperary (Ireland)\n",
      "- Kent (England)CPU times: user 1.51 s, sys: 406 ms, total: 1.92 s\n",
      "Wall time: 1min 36s\n"
     ]
    }
   ],
   "source": [
    "%%time\n",
    "query = f\"\"\"This is an article from Wikipedia:\n",
    "\n",
    "====\n",
    "{article_text}\n",
    "====\n",
    "\n",
    "Based only on the above article, answer the following question:\n",
    "\n",
    "Which countries and cities are named in this article?\"\"\"\n",
    "\n",
    "stream = ollama.generate(\n",
    "    model=LANGUAGE_MODEL, \n",
    "    prompt=query, \n",
    "    stream=True,\n",
    "    options={\"temperature\": 0},\n",
    ")\n",
    "\n",
    "for chunk in stream:\n",
    "  print(chunk['response'], end='', flush=True)"
   ]
  },
  {
   "cell_type": "markdown",
   "id": "49795b4c-19c4-48fd-8ef8-409c9700fae1",
   "metadata": {},
   "source": [
    "## Parsing the whole article"
   ]
  },
  {
   "cell_type": "code",
   "execution_count": 69,
   "id": "2d2443ba-4373-40ef-8491-51ae12c3de64",
   "metadata": {},
   "outputs": [],
   "source": [
    "import urllib.request, json \n",
    "with urllib.request.urlopen(\"https://en.wikipedia.org/w/api.php?format=json&action=query&prop=extracts&exlimit=max&explaintext&titles=Shane_MacGowan&redirects=\") as url:\n",
    "    wikipedia_data = json.load(url)\n",
    "    #print(wikipedia_data)\n",
    "article_text = list(wikipedia_data['query']['pages'].values())[0]['extract']"
   ]
  },
  {
   "cell_type": "code",
   "execution_count": 70,
   "id": "bcfe3911-0566-4ebd-a4da-a6192d020bd0",
   "metadata": {},
   "outputs": [
    {
     "name": "stdout",
     "output_type": "stream",
     "text": [
      "<think>\n",
      "Alright, I need to figure out which countries and cities are mentioned in the provided article about Shane MacGowan. Let me go through the text step by step.\n",
      "\n",
      "First, looking at the \"Early life\" section, it mentions that Shane grew up in County Wexford, Ireland. So, County Wexford is a country (specifically a county) within Ireland. The city mentioned here is Cavan, which I know is a city in County Wexford.\n",
      "\n",
      "Next, under the \"Autobiography and biographies\" section, there's a mention of an album called \"The Nips/Nipple Erectors\" released in 1987/2003. That doesn't add any new countries or cities since it's just an album title.\n",
      "\n",
      "Moving on to the \"Discography\" section, I see albums like \"Bops, Babes, Booze & Bovver,\" which is a compilation from 1987/2003. Again, no new country info there.\n",
      "\n",
      "In the \"Albums\" section under \"With the Pogues,\" the first album listed is \"Red Roses for Me\" released in October 1984. No countries or cities mentioned here.\n",
      "\n",
      "Looking further down, under \"Albums\" again, there's an album called \"The Snake\" from 1994 and \"The Crock of Gold\" from October 1997. Still no new info on countries or cities.\n",
      "\n",
      "In the \"Singles\" section, I see mentions like \"Fairytale of New York,\" which is a song featuring Kirsty MacColl. The city mentioned here is New York, USA. Also, in another entry, there's a collaboration with the Dubliners, so that ties back to Ireland again.\n",
      "\n",
      "Under \"Guest appearances,\" several songs are listed where Shane appears with other bands or artists. For example, \"The Wild Rover\" features Sinéad O'Connor, who I know is from Ireland. So, that reinforces Ireland as a country involved in his guest appearances.\n",
      "\n",
      "In the \"Filmography\" section, there's an appearance in \"The Punk Rock Movie\" from 1979, which is an archive footage appearance. No new countries or cities here.\n",
      "\n",
      "Another entry mentions \"Eat the Rich,\" released in 1987, again no country info.\n",
      "\n",
      "Looking through all these sections, I can identify Ireland as a country because Shane MacGowan is an Irish musician. The specific city mentioned is Cavan, County Wexford, and New York, USA for the song \"Fairytale of New York.\"\n",
      "\n",
      "I don't see any other countries or cities mentioned in the article besides Ireland, Cavan, and New York.\n",
      "</think>\n",
      "\n",
      "The article mentions the following countries and cities:\n",
      "\n",
      "- **Ireland**: Specifically, Shane MacGowan is an Irish musician. The city of Cavan is noted as his hometown in County Wexford.\n",
      "- **New York, USA**: The song \"Fairytale of New York\" features a collaboration with Sinéad O'Connor.\n",
      "\n",
      "These are the only countries and cities explicitly mentioned in the provided text.CPU times: user 1.04 s, sys: 261 ms, total: 1.3 s\n",
      "Wall time: 1min 57s\n"
     ]
    }
   ],
   "source": [
    "%%time\n",
    "query = f\"\"\"This is an article from Wikipedia:\n",
    "\n",
    "====\n",
    "{article_text}\n",
    "====\n",
    "\n",
    "Based only on the above article, answer the following question:\n",
    "\n",
    "Which countries and cities are named in this article?\"\"\"\n",
    "\n",
    "stream = ollama.generate(\n",
    "    model=LANGUAGE_MODEL, \n",
    "    prompt=query, \n",
    "    stream=True,\n",
    "    options={\"temperature\": 0},\n",
    ")\n",
    "\n",
    "for chunk in stream:\n",
    "  print(chunk['response'], end='', flush=True)"
   ]
  },
  {
   "cell_type": "markdown",
   "id": "624ddb70-e32c-487f-bd14-f2fc30cd32df",
   "metadata": {},
   "source": [
    "This time, despite having more information, the model gives less complete and partly incorrect answers!"
   ]
  },
  {
   "cell_type": "code",
   "execution_count": null,
   "id": "55c18b37-a9e7-4a22-a348-7dc0eb71d06f",
   "metadata": {},
   "outputs": [],
   "source": []
  }
 ],
 "metadata": {
  "kernelspec": {
   "display_name": "Python 3 (ipykernel)",
   "language": "python",
   "name": "python3"
  },
  "language_info": {
   "codemirror_mode": {
    "name": "ipython",
    "version": 3
   },
   "file_extension": ".py",
   "mimetype": "text/x-python",
   "name": "python",
   "nbconvert_exporter": "python",
   "pygments_lexer": "ipython3",
   "version": "3.13.3"
  }
 },
 "nbformat": 4,
 "nbformat_minor": 5
}
