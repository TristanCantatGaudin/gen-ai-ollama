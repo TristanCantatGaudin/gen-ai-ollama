{
 "cells": [
  {
   "cell_type": "markdown",
   "id": "3519b989-210a-430c-b886-3006493d6387",
   "metadata": {},
   "source": [
    "Embed cat facts with nomic-enbed-text\n",
    "\n",
    "UMAP\n",
    "\n",
    "Question, results, no LLM!\n",
    "\n",
    "Documents https://umap-learn.readthedocs.io/en/latest/document_embedding.html"
   ]
  },
  {
   "cell_type": "code",
   "execution_count": null,
   "id": "1ccbf76f-b516-4d87-be4e-4424794f459e",
   "metadata": {},
   "outputs": [],
   "source": []
  }
 ],
 "metadata": {
  "kernelspec": {
   "display_name": "Python 3 (ipykernel)",
   "language": "python",
   "name": "python3"
  },
  "language_info": {
   "codemirror_mode": {
    "name": "ipython",
    "version": 3
   },
   "file_extension": ".py",
   "mimetype": "text/x-python",
   "name": "python",
   "nbconvert_exporter": "python",
   "pygments_lexer": "ipython3",
   "version": "3.13.3"
  }
 },
 "nbformat": 4,
 "nbformat_minor": 5
}
