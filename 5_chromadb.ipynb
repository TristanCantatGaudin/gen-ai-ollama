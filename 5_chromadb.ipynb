{
 "cells": [
  {
   "cell_type": "markdown",
   "id": "c61b3674-ce97-4082-8af6-10b34cdd7534",
   "metadata": {},
   "source": [
    "# ChromaDB quickstart\n",
    "\n",
    "ChromaDB uses the Hierarchical navigable small world (HNSW) approximate nearest neighbour search to search for similar embeddings."
   ]
  },
  {
   "cell_type": "code",
   "execution_count": 1,
   "id": "a9d55174-f062-49be-9534-74b7c15e0fd7",
   "metadata": {},
   "outputs": [],
   "source": [
    "import chromadb\n",
    "from chromadb.utils.embedding_functions.ollama_embedding_function import OllamaEmbeddingFunction\n",
    "\n",
    "ollama_ef = OllamaEmbeddingFunction(\n",
    "    url=\"http://localhost:11434\",\n",
    "    model_name=\"nomic-embed-text:latest\",\n",
    ")\n",
    "\n",
    "client = client = chromadb.EphemeralClient() \n",
    "# to save the DB on disc, use: chromadb.PersistentClient()\n",
    "# you can specify the path there, see https://docs.trychroma.com/docs/run-chroma/persistent-client"
   ]
  },
  {
   "cell_type": "markdown",
   "id": "add39870-916b-4aa8-b5c3-33421c4c258f",
   "metadata": {},
   "source": [
    "By default, ChromaDB uses the `all-MiniLM-L6-v2` embedding model (and downloads it automatically) to embed text in a collection. If you want anything else you need to specify it when you create the collection. Here we use an embedding provided through Ollama. We also specify at creation that we want to use the cosine distance (default is L2, the squared Euclidian metric). See documentation: https://docs.trychroma.com/docs/collections/configure"
   ]
  },
  {
   "cell_type": "code",
   "execution_count": 2,
   "id": "00bcc8cc-f084-484b-8dea-c72e8448a7d1",
   "metadata": {},
   "outputs": [],
   "source": [
    "collection = client.create_collection(\n",
    "    name=\"CatFacts\", \n",
    "    embedding_function=ollama_ef,\n",
    "    metadata={\"hnsw:space\": \"cosine\"}  # or \"dotproduct\"\n",
    ")"
   ]
  },
  {
   "cell_type": "markdown",
   "id": "3300ac9b-0834-407a-a586-03e7c686c55b",
   "metadata": {},
   "source": [
    "If using `PersistenClient` you can load existing collections, or delete them, or do a load-else-create:\n",
    "\n",
    "        collection = client.get_collection(name=\"test\") \n",
    "        # Get a collection object from an existing collection, by name. Will raise an exception if it's not found.\n",
    "        collection = client.get_or_create_collection(name=\"test\") \n",
    "        # Get a collection object from an existing collection, by name. If it doesn't exist, create it.\n",
    "        client.delete_collection(name=\"my_collection\") \n",
    "        # Delete a collection and all associated embeddings, documents, and metadata. \n"
   ]
  },
  {
   "cell_type": "markdown",
   "id": "1d12f0b0-6fa1-451e-8706-2e7b19cda648",
   "metadata": {},
   "source": [
    "## Storing our cat facts"
   ]
  },
  {
   "cell_type": "code",
   "execution_count": 3,
   "id": "86524c37-e1bb-49b6-b8c3-3a6620da0dfd",
   "metadata": {},
   "outputs": [],
   "source": [
    "import requests\n",
    "\n",
    "cat_facts_url = 'https://huggingface.co/ngxson/demo_simple_rag_py/raw/main/cat-facts.txt'\n",
    "response = requests.get(cat_facts_url)\n",
    "cat_facts = response.text.split(\"\\n\")"
   ]
  },
  {
   "cell_type": "code",
   "execution_count": 4,
   "id": "6f83b850-5fda-4d00-b0fc-487228f21aea",
   "metadata": {},
   "outputs": [
    {
     "name": "stdout",
     "output_type": "stream",
     "text": [
      "CPU times: user 73.3 ms, sys: 15.3 ms, total: 88.6 ms\n",
      "Wall time: 2.12 s\n"
     ]
    }
   ],
   "source": [
    "%%time\n",
    "collection.add(\n",
    "    documents = cat_facts,\n",
    "    ids = [f\"id{iii}\" for iii in range(len(cat_facts))],\n",
    ")"
   ]
  },
  {
   "cell_type": "markdown",
   "id": "c89fc588-96b0-40ee-b3e4-8d77b3856cf4",
   "metadata": {},
   "source": [
    "`ids` are required. If this id already exists, then the document is not added to the data base.\n",
    "\n",
    "You can also ad metadata, as a list of dictionaries.\n",
    "\n",
    "Instead of `documents = ...` you can also pass a list of `embeddings = ...` directly.\n",
    "\n",
    "https://docs.trychroma.com/docs/collections/add-data\n",
    "\n",
    "If needed, collections can be renamed: `collection.modify(name=\"new_name\")`\n",
    "\n",
    "## Accessing the stored data\n",
    "\n",
    "For each collection an index is created using the hnswlib python library (an implementaion of HNSW approximate nearest neighbor search algorithm)\n",
    "\n",
    "https://docs.trychroma.com/docs/querying-collections/query-and-get"
   ]
  },
  {
   "cell_type": "code",
   "execution_count": 5,
   "id": "e553b682-fce2-4c32-ae46-7baa0fe4f1fd",
   "metadata": {},
   "outputs": [
    {
     "name": "stdout",
     "output_type": "stream",
     "text": [
      "dict_keys(['ids', 'embeddings', 'documents', 'uris', 'included', 'data', 'metadatas'])\n",
      "150\n",
      "150\n"
     ]
    }
   ],
   "source": [
    "print(collection.get().keys())\n",
    "print(len(collection.get()['documents']))\n",
    "print(collection.count())"
   ]
  },
  {
   "cell_type": "code",
   "execution_count": 6,
   "id": "5bdba869-5460-42e4-bbbb-763052fadb25",
   "metadata": {},
   "outputs": [
    {
     "data": {
      "text/plain": [
       "{'ids': ['id1', 'id2', 'id3'],\n",
       " 'embeddings': None,\n",
       " 'documents': ['Unlike dogs, cats do not have a sweet tooth. Scientists believe this is due to a mutation in a key taste receptor.',\n",
       "  'When a cat chases its prey, it keeps its head level. Dogs and humans bob their heads up and down.',\n",
       "  'The technical term for a cat’s hairball is a “bezoar.”'],\n",
       " 'uris': None,\n",
       " 'included': ['metadatas', 'documents'],\n",
       " 'data': None,\n",
       " 'metadatas': [None, None, None]}"
      ]
     },
     "execution_count": 6,
     "metadata": {},
     "output_type": "execute_result"
    }
   ],
   "source": [
    "collection.get(\n",
    "\tids=[\"id1\", \"id2\", \"id3\"],\n",
    ")"
   ]
  },
  {
   "cell_type": "code",
   "execution_count": 7,
   "id": "785fdc27-2fd3-4648-b171-03f0d77236f7",
   "metadata": {},
   "outputs": [
    {
     "data": {
      "text/plain": [
       "{'ids': ['id0', 'id1'],\n",
       " 'embeddings': array([[ 0.0231142 ,  0.06630387, -0.17538089, ..., -0.0107691 ,\n",
       "          0.00104107, -0.01289808],\n",
       "        [ 0.07731966,  0.07048559, -0.14541987, ..., -0.01019575,\n",
       "         -0.04358175, -0.05696372]], shape=(2, 768)),\n",
       " 'documents': ['On average, cats spend 2/3 of every day sleeping. That means a nine-year-old cat has been awake for only three years of its life.',\n",
       "  'Unlike dogs, cats do not have a sweet tooth. Scientists believe this is due to a mutation in a key taste receptor.'],\n",
       " 'uris': None,\n",
       " 'included': ['metadatas', 'documents', 'embeddings'],\n",
       " 'data': None,\n",
       " 'metadatas': [None, None]}"
      ]
     },
     "execution_count": 7,
     "metadata": {},
     "output_type": "execute_result"
    }
   ],
   "source": [
    "# peek at the N first items:\n",
    "collection.peek(2) "
   ]
  },
  {
   "cell_type": "markdown",
   "id": "ad010394-c056-4cf6-a79c-0b206530c5a6",
   "metadata": {},
   "source": [
    "If your collection has metadata, you can also use e.g. `where={\"style\": \"style1\"}` as an argument to the `get` method."
   ]
  },
  {
   "cell_type": "code",
   "execution_count": 8,
   "id": "3e94ffe4-190e-485d-b014-6d4070927239",
   "metadata": {},
   "outputs": [
    {
     "name": "stdout",
     "output_type": "stream",
     "text": [
      "CPU times: user 1.83 ms, sys: 614 μs, total: 2.45 ms\n",
      "Wall time: 12.9 ms\n"
     ]
    },
    {
     "data": {
      "text/plain": [
       "{'ids': [['id131', 'id127', 'id138', 'id126', 'id125']],\n",
       " 'embeddings': None,\n",
       " 'documents': [['A form of AIDS exists in cats.',\n",
       "   'Though rare, cats can contract canine heart worms.',\n",
       "   'Many people fear catching a protozoan disease, Toxoplasmosis, from cats. This disease can cause illness in the human, but more seriously, can cause birth defects in the unborn. Toxoplasmosis is a common disease, sometimes spread through the feces of cats. It is caused most often from eating raw or rare beef. Pregnant women and people with a depressed immune system should not touch the cat litter box. Other than that, there is no reason that these people have to avoid cats.',\n",
       "   'Cats can get tapeworms from eating mice. If your cat catches a mouse it is best to take the prize away from it.',\n",
       "   'Cats can get tapeworms from eating fleas. These worms live inside the cat forever, or until they are removed with medication. They reproduce by shedding a link from the end of their long bodies. This link crawls out the cat’s anus, and sheds hundreds of eggs. These eggs are injected by flea larvae, and the cycle continues. Humans may get these tapeworms too, but only if they eat infected fleas. Cats with tapeworms should be dewormed by a veterinarian.']],\n",
       " 'uris': None,\n",
       " 'included': ['metadatas', 'documents', 'distances'],\n",
       " 'data': None,\n",
       " 'metadatas': [[None, None, None, None, None]],\n",
       " 'distances': [[0.24846619367599487,\n",
       "   0.2557169198989868,\n",
       "   0.2751520872116089,\n",
       "   0.27704620361328125,\n",
       "   0.27985090017318726]]}"
      ]
     },
     "execution_count": 8,
     "metadata": {},
     "output_type": "execute_result"
    }
   ],
   "source": [
    "%%time\n",
    "collection.query(\n",
    "    query_texts=[\"Can cats catch illnesses?\"],\n",
    "    n_results=5,\n",
    ")"
   ]
  },
  {
   "cell_type": "markdown",
   "id": "96ec4ecc-cafc-4c03-a986-9aa3b1b1f550",
   "metadata": {},
   "source": [
    "The query method also allows to filter on kewords, and on metadata:\n",
    "\n",
    "    where={\"metadata_field\": \"is_equal_to_this\"},\n",
    "    where_document={\"$contains\":\"search_string\"},"
   ]
  }
 ],
 "metadata": {
  "kernelspec": {
   "display_name": "Python 3 (ipykernel)",
   "language": "python",
   "name": "python3"
  },
  "language_info": {
   "codemirror_mode": {
    "name": "ipython",
    "version": 3
   },
   "file_extension": ".py",
   "mimetype": "text/x-python",
   "name": "python",
   "nbconvert_exporter": "python",
   "pygments_lexer": "ipython3",
   "version": "3.13.3"
  }
 },
 "nbformat": 4,
 "nbformat_minor": 5
}
