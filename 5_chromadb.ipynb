{
 "cells": [
  {
   "cell_type": "markdown",
   "id": "c61b3674-ce97-4082-8af6-10b34cdd7534",
   "metadata": {},
   "source": [
    "chromadb, faiss, LlamaIndex\n",
    "\n",
    "pure chromadb https://www.datacamp.com/tutorial/chromadb-tutorial-step-by-step-guide uses parquet! through duckdb\n",
    "\n",
    "\n",
    "https://medium.com/@kofsitho/using-vector-db-in-llama-index-7b47fc39b7c0\n",
    "\n",
    "https://docs.llamaindex.ai/en/v0.9.48/api/llama_index.readers.PDFReader.html\n",
    "\n",
    "By default, ChromaDB uses the `all-MiniLM-L6-v2` model (and downloads it automatically) to embed text in a collection. If you want anything else you need to specify it when you create the collection. Here we use an embedding provided through Ollama. We also specify at creation that we want to use the cosine distance (default is L2, the squared Euclidian metric). See documentation: https://docs.trychroma.com/docs/collections/configure"
   ]
  },
  {
   "cell_type": "code",
   "execution_count": 1,
   "id": "a9d55174-f062-49be-9534-74b7c15e0fd7",
   "metadata": {},
   "outputs": [],
   "source": [
    "import chromadb\n",
    "from chromadb.utils.embedding_functions.ollama_embedding_function import OllamaEmbeddingFunction\n",
    "\n",
    "ollama_ef = OllamaEmbeddingFunction(\n",
    "    url=\"http://localhost:11434\",\n",
    "    model_name=\"nomic-embed-text:latest\",\n",
    ")\n",
    "\n",
    "client = chromadb.PersistentClient()\n",
    "# you can specify the path there, see https://docs.trychroma.com/docs/run-chroma/persistent-client\n",
    "# to keep the DB in memory, use: client = chromadb.EphemeralClient()"
   ]
  },
  {
   "cell_type": "code",
   "execution_count": 2,
   "id": "00bcc8cc-f084-484b-8dea-c72e8448a7d1",
   "metadata": {},
   "outputs": [],
   "source": [
    "collection = client.create_collection(\n",
    "    name=\"CatFacts\", \n",
    "    embedding_function=ollama_ef,\n",
    "    metadata={\"hnsw:space\": \"cosine\"}  # or \"dotproduct\"\n",
    ")"
   ]
  },
  {
   "cell_type": "markdown",
   "id": "3300ac9b-0834-407a-a586-03e7c686c55b",
   "metadata": {},
   "source": [
    "If using `PersistenClient` you can load existing collections, or delete them, or do a load-else-create:\n",
    "\n",
    "        collection = client.get_collection(name=\"test\") \n",
    "        # Get a collection object from an existing collection, by name. Will raise an exception if it's not found.\n",
    "        collection = client.get_or_create_collection(name=\"test\") \n",
    "        # Get a collection object from an existing collection, by name. If it doesn't exist, create it.\n",
    "        client.delete_collection(name=\"my_collection\") \n",
    "        # Delete a collection and all associated embeddings, documents, and metadata. \n"
   ]
  },
  {
   "cell_type": "markdown",
   "id": "1d12f0b0-6fa1-451e-8706-2e7b19cda648",
   "metadata": {},
   "source": [
    "## Storing our cat facts"
   ]
  },
  {
   "cell_type": "code",
   "execution_count": 9,
   "id": "86524c37-e1bb-49b6-b8c3-3a6620da0dfd",
   "metadata": {},
   "outputs": [],
   "source": [
    "import requests\n",
    "\n",
    "cat_facts_url = 'https://huggingface.co/ngxson/demo_simple_rag_py/raw/main/cat-facts.txt'\n",
    "response = requests.get(cat_facts_url)\n",
    "cat_facts = response.text.split(\"\\n\")"
   ]
  },
  {
   "cell_type": "code",
   "execution_count": 10,
   "id": "6f83b850-5fda-4d00-b0fc-487228f21aea",
   "metadata": {},
   "outputs": [],
   "source": [
    "collection.add(\n",
    "    documents = cat_facts,\n",
    "    ids = [f\"id{iii}\" for iii in range(len(cat_facts))],\n",
    ")"
   ]
  },
  {
   "cell_type": "markdown",
   "id": "c89fc588-96b0-40ee-b3e4-8d77b3856cf4",
   "metadata": {},
   "source": [
    "`ids` are required. If this id already exists, then the document is not added to the data base.\n",
    "\n",
    "You can also ad metadata, as a list of dictionaries.\n",
    "\n",
    "Instead of `documents = ...` you can also pass a list of `embeddings = ...` directly.\n",
    "\n",
    "https://docs.trychroma.com/docs/collections/add-data\n",
    "\n",
    "If needed, collections can be renamed: `collection.modify(name=\"new_name\")`\n",
    "\n",
    "## Accessing the stored data\n",
    "\n",
    "https://docs.trychroma.com/docs/querying-collections/query-and-get"
   ]
  },
  {
   "cell_type": "code",
   "execution_count": 11,
   "id": "e553b682-fce2-4c32-ae46-7baa0fe4f1fd",
   "metadata": {},
   "outputs": [
    {
     "name": "stdout",
     "output_type": "stream",
     "text": [
      "dict_keys(['ids', 'embeddings', 'documents', 'uris', 'included', 'data', 'metadatas'])\n",
      "150\n",
      "150\n"
     ]
    }
   ],
   "source": [
    "print(collection.get().keys())\n",
    "print(len(collection.get()['documents']))\n",
    "print(collection.count())"
   ]
  },
  {
   "cell_type": "code",
   "execution_count": 12,
   "id": "5bdba869-5460-42e4-bbbb-763052fadb25",
   "metadata": {},
   "outputs": [
    {
     "data": {
      "text/plain": [
       "{'ids': ['id1', 'id2', 'id3'],\n",
       " 'embeddings': None,\n",
       " 'documents': ['Unlike dogs, cats do not have a sweet tooth. Scientists believe this is due to a mutation in a key taste receptor.',\n",
       "  'When a cat chases its prey, it keeps its head level. Dogs and humans bob their heads up and down.',\n",
       "  'The technical term for a cat’s hairball is a “bezoar.”'],\n",
       " 'uris': None,\n",
       " 'included': ['metadatas', 'documents'],\n",
       " 'data': None,\n",
       " 'metadatas': [None, None, None]}"
      ]
     },
     "execution_count": 12,
     "metadata": {},
     "output_type": "execute_result"
    }
   ],
   "source": [
    "collection.get(\n",
    "\tids=[\"id1\", \"id2\", \"id3\"],\n",
    ")"
   ]
  },
  {
   "cell_type": "code",
   "execution_count": 7,
   "id": "785fdc27-2fd3-4648-b171-03f0d77236f7",
   "metadata": {},
   "outputs": [
    {
     "data": {
      "text/plain": [
       "{'ids': ['id0', 'id1'],\n",
       " 'embeddings': array([[ 0.0231142 ,  0.06630387, -0.17538089, ..., -0.0107691 ,\n",
       "          0.00104107, -0.01289808],\n",
       "        [ 0.07731966,  0.07048559, -0.14541987, ..., -0.01019575,\n",
       "         -0.04358175, -0.05696372]], shape=(2, 768)),\n",
       " 'documents': ['On average, cats spend 2/3 of every day sleeping. That means a nine-year-old cat has been awake for only three years of its life.',\n",
       "  'Unlike dogs, cats do not have a sweet tooth. Scientists believe this is due to a mutation in a key taste receptor.'],\n",
       " 'uris': None,\n",
       " 'included': ['metadatas', 'documents', 'embeddings'],\n",
       " 'data': None,\n",
       " 'metadatas': [None, None]}"
      ]
     },
     "execution_count": 7,
     "metadata": {},
     "output_type": "execute_result"
    }
   ],
   "source": [
    "# peek at the N first items:\n",
    "collection.peek(2) "
   ]
  },
  {
   "cell_type": "markdown",
   "id": "ad010394-c056-4cf6-a79c-0b206530c5a6",
   "metadata": {},
   "source": [
    "If your collection has metadata, you can also use e.g. `where={\"style\": \"style1\"}` as an argument to the `get` method."
   ]
  },
  {
   "cell_type": "code",
   "execution_count": 8,
   "id": "3e94ffe4-190e-485d-b014-6d4070927239",
   "metadata": {},
   "outputs": [
    {
     "data": {
      "text/plain": [
       "{'ids': [['id39', 'id75', 'id22']],\n",
       " 'embeddings': None,\n",
       " 'documents': [['Cats hate the water because their fur does not insulate well when it’s wet. The Turkish Van, however, is one cat that likes swimming. Bred in central Asia, its coat has a unique texture that makes it water resistant.',\n",
       "   'If they have ample water, cats can tolerate temperatures up to 133 °F.',\n",
       "   'Some cats have survived falls of over 65 feet (20 meters), due largely to their “righting reflex.” The eyes and balance organs in the inner ear tell it where it is in space so the cat can land on its feet. Even cats without a tail have this ability.']],\n",
       " 'uris': None,\n",
       " 'included': ['metadatas', 'documents', 'distances'],\n",
       " 'data': None,\n",
       " 'metadatas': [[None, None, None]],\n",
       " 'distances': [[0.24525678157806396, 0.30478936433792114, 0.3183196187019348]]}"
      ]
     },
     "execution_count": 8,
     "metadata": {},
     "output_type": "execute_result"
    }
   ],
   "source": [
    "collection.query(\n",
    "    query_texts=[\"Can cats swim?\"],\n",
    "    n_results=3,\n",
    ")"
   ]
  },
  {
   "cell_type": "markdown",
   "id": "96ec4ecc-cafc-4c03-a986-9aa3b1b1f550",
   "metadata": {},
   "source": [
    "The query method also allows to filter on kewords, and on metadata:\n",
    "\n",
    "    where={\"metadata_field\": \"is_equal_to_this\"},\n",
    "    where_document={\"$contains\":\"search_string\"},\n",
    "\n",
    "By default, the distance is the L2 norm (squared Euclidian distance)."
   ]
  },
  {
   "cell_type": "code",
   "execution_count": null,
   "id": "4d7f80b5-7ff5-41db-abc9-a7fb4afe1307",
   "metadata": {},
   "outputs": [],
   "source": []
  },
  {
   "cell_type": "code",
   "execution_count": null,
   "id": "ecb75c0a-09c3-4985-b7cc-7febb91a7a9c",
   "metadata": {},
   "outputs": [],
   "source": []
  }
 ],
 "metadata": {
  "kernelspec": {
   "display_name": "Python 3 (ipykernel)",
   "language": "python",
   "name": "python3"
  },
  "language_info": {
   "codemirror_mode": {
    "name": "ipython",
    "version": 3
   },
   "file_extension": ".py",
   "mimetype": "text/x-python",
   "name": "python",
   "nbconvert_exporter": "python",
   "pygments_lexer": "ipython3",
   "version": "3.13.3"
  }
 },
 "nbformat": 4,
 "nbformat_minor": 5
}
