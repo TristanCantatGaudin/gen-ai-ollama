{
 "cells": [
  {
   "cell_type": "markdown",
   "id": "861b4c88-1f7d-4a06-986a-57b7f7a9c3a8",
   "metadata": {},
   "source": [
    "# LlamaIndex\n",
    "\n",
    "In this notebook we embed PDF documents into three types of vector storage (LlamaIndex's default, ChromaDB, and FAISS).\n",
    "\n",
    "See available Vector Stores: https://docs.llamaindex.ai/en/stable/module_guides/storing/vector_stores/"
   ]
  },
  {
   "cell_type": "markdown",
   "id": "c4a02998-3cb8-426a-a85e-3d74b788f683",
   "metadata": {},
   "source": [
    "Let's download astronomy papers in PDF format:"
   ]
  },
  {
   "cell_type": "code",
   "execution_count": 1,
   "id": "ee553e52-7d23-4686-8664-3a665bf35d0e",
   "metadata": {},
   "outputs": [
    {
     "name": "stdout",
     "output_type": "stream",
     "text": [
      "Downloaded paper 2406.03308\n",
      "Downloaded paper 1609.04153\n"
     ]
    }
   ],
   "source": [
    "import os\n",
    "import urllib\n",
    "\n",
    "PDF_DIR = \"pdf_papers/\"\n",
    "os.makedirs(PDF_DIR, exist_ok=True)\n",
    "\n",
    "for arXiv_id in [\"2406.03308\",\"1609.04153\"]:\n",
    "    urllib.request.urlretrieve(\"https://arxiv.org/pdf/\"+arXiv_id+\".pdf\", PDF_DIR+arXiv_id+\".pdf\")\n",
    "    print(\"Downloaded paper\",arXiv_id)"
   ]
  },
  {
   "cell_type": "markdown",
   "id": "8c240f49-a19a-4945-9aef-b471859a76a6",
   "metadata": {},
   "source": [
    "### Parse PDF documents as text"
   ]
  },
  {
   "cell_type": "code",
   "execution_count": 2,
   "id": "1c36efef-0905-459b-80e0-19e3e84eb480",
   "metadata": {},
   "outputs": [],
   "source": [
    "from llama_index.core import SimpleDirectoryReader"
   ]
  },
  {
   "cell_type": "code",
   "execution_count": 3,
   "id": "d6eb66fd-aecf-4a35-96e6-24e3dbd4accd",
   "metadata": {},
   "outputs": [
    {
     "name": "stdout",
     "output_type": "stream",
     "text": [
      "We have read 60 pages.\n",
      "CPU times: user 906 ms, sys: 25.7 ms, total: 932 ms\n",
      "Wall time: 993 ms\n"
     ]
    }
   ],
   "source": [
    "%%time\n",
    "reader = SimpleDirectoryReader(input_dir=PDF_DIR)\n",
    "docs = reader.load_data()\n",
    "\n",
    "print(f\"We have read {len(docs)} pages.\")"
   ]
  },
  {
   "cell_type": "markdown",
   "id": "2c5351d3-6310-4d5e-a245-4c4900e63391",
   "metadata": {},
   "source": [
    "### Embed them\n",
    "\n",
    "By default, the embedding used is ..., but we can also use one from Ollama. This requires to install the `llama-index-embeddings-ollama` package separately. Then:"
   ]
  },
  {
   "cell_type": "code",
   "execution_count": 4,
   "id": "c257a7ba-037c-49a4-bba0-dfed340af989",
   "metadata": {},
   "outputs": [],
   "source": [
    "from llama_index.embeddings.ollama import OllamaEmbedding"
   ]
  },
  {
   "cell_type": "code",
   "execution_count": 5,
   "id": "a52cb4d0-2f49-4828-8b75-f092eeafc112",
   "metadata": {},
   "outputs": [],
   "source": [
    "ollama_embedding = OllamaEmbedding(\n",
    "    model_name=\"nomic-embed-text:latest\",\n",
    "    base_url=\"http://localhost:11434\",\n",
    ")"
   ]
  },
  {
   "cell_type": "code",
   "execution_count": 6,
   "id": "002906cc-aa7d-40f7-8107-b7824df98f89",
   "metadata": {},
   "outputs": [],
   "source": [
    "from llama_index.core import VectorStoreIndex"
   ]
  },
  {
   "cell_type": "code",
   "execution_count": 7,
   "id": "27bd7722-96b6-496d-a7f2-e79342518532",
   "metadata": {},
   "outputs": [
    {
     "data": {
      "application/vnd.jupyter.widget-view+json": {
       "model_id": "cf11f32ae7574757a2b2af8e72a079ed",
       "version_major": 2,
       "version_minor": 0
      },
      "text/plain": [
       "Parsing nodes:   0%|          | 0/60 [00:00<?, ?it/s]"
      ]
     },
     "metadata": {},
     "output_type": "display_data"
    },
    {
     "data": {
      "application/vnd.jupyter.widget-view+json": {
       "model_id": "ae5fa9ff488e49b1abbe4417d672ad3d",
       "version_major": 2,
       "version_minor": 0
      },
      "text/plain": [
       "Generating embeddings:   0%|          | 0/186 [00:00<?, ?it/s]"
      ]
     },
     "metadata": {},
     "output_type": "display_data"
    }
   ],
   "source": [
    "index = VectorStoreIndex.from_documents(docs, \n",
    "                                        show_progress=True,\n",
    "                                        embed_model=ollama_embedding)"
   ]
  },
  {
   "cell_type": "markdown",
   "id": "d2f72a18-6831-4c1f-8669-3f0cd9d6ff18",
   "metadata": {},
   "source": [
    "This can be made persistant with:"
   ]
  },
  {
   "cell_type": "code",
   "execution_count": 8,
   "id": "1ce882ed-8532-44f2-8c5b-a4eb5a776569",
   "metadata": {},
   "outputs": [],
   "source": [
    "index.set_index_id(\"astronomy\")\n",
    "index.storage_context.persist(\"./db/astronomyPDF\")"
   ]
  },
  {
   "cell_type": "markdown",
   "id": "06b57122-a9fb-4233-a98c-e5e689b22df1",
   "metadata": {},
   "source": [
    "The directories are created automatically, the vectors are stored as json, and can be reloaded later.\n",
    "\n",
    "Here we embed entire pages. A better strategy would employ additional chunking. One way to do that is to set before calling `from_documents`:\n",
    "\n",
    "    from llama_index.core import Settings\n",
    "    Settings.chunk_size = 512\n",
    "    Settings.chunk_overlap = 50\n",
    "    \n",
    "    index = VectorStoreIndex.from_documents(\n",
    "        documents,\n",
    "    )\n",
    "\n",
    "but this is beyond the scope of this notebook.\n",
    "\n",
    "### Embed into ChromaDB\n",
    "\n",
    "Llamaindex can also embed direcly into ChromaDB, with the package `llama-index-vector-stores-chroma`."
   ]
  },
  {
   "cell_type": "code",
   "execution_count": 9,
   "id": "e51dcc43-a3bf-45ea-92f1-6da8b3dd6d25",
   "metadata": {},
   "outputs": [],
   "source": [
    "import chromadb\n",
    "from llama_index.vector_stores.chroma import ChromaVectorStore\n",
    "from llama_index.core import StorageContext\n",
    "from llama_index.core import VectorStoreIndex\n",
    "\n",
    "db = chromadb.PersistentClient(path=\"./db/astronomyPDFchroma\")\n",
    "chroma_collection = db.get_or_create_collection(\"astronomy\")\n",
    "vector_store = ChromaVectorStore(chroma_collection=chroma_collection)\n",
    "storage_context = StorageContext.from_defaults(vector_store=vector_store)"
   ]
  },
  {
   "cell_type": "code",
   "execution_count": 10,
   "id": "81c555c0-bda6-470d-9028-41e20a9e2770",
   "metadata": {},
   "outputs": [
    {
     "data": {
      "application/vnd.jupyter.widget-view+json": {
       "model_id": "d7bfc79d985f4cc99b141d479a960460",
       "version_major": 2,
       "version_minor": 0
      },
      "text/plain": [
       "Parsing nodes:   0%|          | 0/60 [00:00<?, ?it/s]"
      ]
     },
     "metadata": {},
     "output_type": "display_data"
    },
    {
     "data": {
      "application/vnd.jupyter.widget-view+json": {
       "model_id": "7341d570dec1451b804f90cd7c20e9d8",
       "version_major": 2,
       "version_minor": 0
      },
      "text/plain": [
       "Generating embeddings:   0%|          | 0/186 [00:00<?, ?it/s]"
      ]
     },
     "metadata": {},
     "output_type": "display_data"
    }
   ],
   "source": [
    "chroma_index = VectorStoreIndex.from_documents(docs, \n",
    "                                               storage_context=storage_context, \n",
    "                                               show_progress=True,\n",
    "                                               embed_model=ollama_embedding)"
   ]
  },
  {
   "cell_type": "markdown",
   "id": "e8e8dce8-ec5c-41c1-a455-a08944397d0a",
   "metadata": {},
   "source": [
    "### Embed into FAISS\n",
    "\n",
    "Uses packages `llama-index-vector-stores-faiss` and `faiss` (which for some reason I had to install as `faiss-cpu`, the GPU versions seem to only work for specific Python versions).\n",
    "\n",
    "We need to compute this thing first:"
   ]
  },
  {
   "cell_type": "code",
   "execution_count": 30,
   "id": "76f29cbc-3965-493b-af9e-5f8e91edac7b",
   "metadata": {},
   "outputs": [],
   "source": [
    "import faiss\n",
    "\n",
    "# dimensions of nomic-embed-text:latest\n",
    "d = 768\n",
    "faiss_index_L2 = faiss.IndexFlatL2(d)"
   ]
  },
  {
   "cell_type": "code",
   "execution_count": 31,
   "id": "d4399f23-e138-4d5e-b094-bdee54bfbd54",
   "metadata": {},
   "outputs": [],
   "source": [
    "from llama_index.vector_stores.faiss import FaissVectorStore"
   ]
  },
  {
   "cell_type": "code",
   "execution_count": 32,
   "id": "d3458e7a-c348-4072-b6f0-f136859f606a",
   "metadata": {},
   "outputs": [
    {
     "data": {
      "application/vnd.jupyter.widget-view+json": {
       "model_id": "0deca36f9da649a99ab15ab53d9a4934",
       "version_major": 2,
       "version_minor": 0
      },
      "text/plain": [
       "Parsing nodes:   0%|          | 0/60 [00:00<?, ?it/s]"
      ]
     },
     "metadata": {},
     "output_type": "display_data"
    },
    {
     "data": {
      "application/vnd.jupyter.widget-view+json": {
       "model_id": "3e3659c693ea432ea87b134ca9b70fb8",
       "version_major": 2,
       "version_minor": 0
      },
      "text/plain": [
       "Generating embeddings:   0%|          | 0/186 [00:00<?, ?it/s]"
      ]
     },
     "metadata": {},
     "output_type": "display_data"
    }
   ],
   "source": [
    "faiss_vector_store = FaissVectorStore(faiss_index=faiss_index_L2)\n",
    "storage_context = StorageContext.from_defaults(vector_store=faiss_vector_store)\n",
    "\n",
    "faiss_index = VectorStoreIndex.from_documents(docs, \n",
    "                                              storage_context=storage_context, \n",
    "                                              show_progress=True,\n",
    "                                              embed_model=ollama_embedding)"
   ]
  },
  {
   "cell_type": "markdown",
   "id": "e5606b9d-ceca-437e-8966-80785bbe6817",
   "metadata": {},
   "source": [
    "Which we could also make persistant with:\n",
    "\n",
    "    faiss_index.storage_context.persist(persist_dir=\"./db/astronomyFAISS\")"
   ]
  },
  {
   "cell_type": "markdown",
   "id": "936f1613-e976-4de5-9dd1-4fec4e8d89ac",
   "metadata": {},
   "source": [
    "## Retrieve"
   ]
  },
  {
   "cell_type": "code",
   "execution_count": 14,
   "id": "56fc43e5-f1f8-495c-aa74-5b64be03e5d1",
   "metadata": {},
   "outputs": [],
   "source": [
    "from llama_index.core.retrievers import VectorIndexRetriever"
   ]
  },
  {
   "cell_type": "code",
   "execution_count": 15,
   "id": "92627a1e-3658-4606-97f7-775c2b8cbd54",
   "metadata": {},
   "outputs": [
    {
     "data": {
      "text/plain": [
       "[NodeWithScore(node=TextNode(id_='c9c224e9-cda0-468c-84c4-e02a0b43bc23', embedding=None, metadata={'page_label': '28', 'file_name': '1609.04153.pdf', 'file_path': '/Users/tristan/playground/gen-ai-ollama/pdf_papers/1609.04153.pdf', 'file_type': 'application/pdf', 'file_size': 4866808, 'creation_date': '2025-05-21', 'last_modified_date': '2025-05-21'}, excluded_embed_metadata_keys=['file_name', 'file_type', 'file_size', 'creation_date', 'last_modified_date', 'last_accessed_date'], excluded_llm_metadata_keys=['file_name', 'file_type', 'file_size', 'creation_date', 'last_modified_date', 'last_accessed_date'], relationships={<NodeRelationship.SOURCE: '1'>: RelatedNodeInfo(node_id='ce295a3d-5552-4bb8-9567-209c7ccc5a87', node_type='4', metadata={'page_label': '28', 'file_name': '1609.04153.pdf', 'file_path': '/Users/tristan/playground/gen-ai-ollama/pdf_papers/1609.04153.pdf', 'file_type': 'application/pdf', 'file_size': 4866808, 'creation_date': '2025-05-21', 'last_modified_date': '2025-05-21'}, hash='8032498b17b4b7963b56ae9d4e1629160a64b942d41f51c8000cab8660866b99'), <NodeRelationship.PREVIOUS: '2'>: RelatedNodeInfo(node_id='5811fe86-cdf0-441d-b6dd-9907999eef80', node_type='1', metadata={'page_label': '28', 'file_name': '1609.04153.pdf', 'file_path': '/Users/tristan/playground/gen-ai-ollama/pdf_papers/1609.04153.pdf', 'file_type': 'application/pdf', 'file_size': 4866808, 'creation_date': '2025-05-21', 'last_modified_date': '2025-05-21'}, hash='ecd7e1537d88ac1317a1dffeca0b481fbe0e29d9e3d7cd3be766b94297ca886e')}, metadata_template='{key}: {value}', metadata_separator='\\n', text='For RVS, the faint-end se-\\nlection of targets is based on RP ﬂux measurements. These mea-\\nsurements are essentially the sum of the ﬂux of the RP sam-\\nples corresponding to the RVS wavelength range, and are used\\nas proxies for GRVS. The RVS faint completeness limit is hence\\nnot sharp either. In addition, the onboard software (Sect. 3.3.8)\\nadapts the RVS threshold, through user-conﬁgurable look-up\\ntables, to the instantaneous, straylight-dominated background\\nlevel (Sect. 4.2), which means in practice that the faint limit\\nvaries between ∼15.5 and ∼16.2 mag over a spin period. At\\nthe end of the mission, however, taking the evolving scanning\\nlaw into account (Sect. 5.2), the e ﬀective faint limit will still be\\nGRVS ≈16.2 mag (or even a bit fainter, taking onboard RP ﬂux-\\nmeasurement errors into account).\\n9. Summary\\nGaia is the space-astrometry mission of the European Space\\nAgency which, after successful commissioning, started scientiﬁc\\noperations in mid-2014. The primary science goal of Gaia is to\\nexamine the kinematical, dynamical, and chemical structure and\\nevolution of our Milky Way. In addition, the data of Gaia will\\nhave a strong impact on many other areas of astrophysical re-\\nsearch, including stellar evolution and physics, star formation,\\nstellar variability, the distance scale, multiple stars, exoplanets,\\nsolar system bodies, unresolved galaxies and quasars, and fun-\\ndamental physics. With a focal plane containing more than 100\\nCCD detectors, Gaia surveys the heavens and repeatedly ob-\\nserves all objects down to G ≈ 20.7 mag during its ﬁve-year\\nnominal lifetime. The science data of Gaia comprise absolute\\nastrometry (positions, proper motions, and parallaxes), broad-\\nband photometry in the unﬁltered G band, low-resolution blue\\nand red (spectro-)photometry (BP and RP), and integrated GBP\\nArticle number, page 28 of 36', mimetype='text/plain', start_char_idx=5828, end_char_idx=7677, metadata_seperator='\\n', text_template='{metadata_str}\\n\\n{content}'), score=0.524855508740282)]"
      ]
     },
     "execution_count": 15,
     "metadata": {},
     "output_type": "execute_result"
    }
   ],
   "source": [
    "retriever = VectorIndexRetriever(\n",
    "    index=index,\n",
    "    similarity_top_k=1,\n",
    ")\n",
    "retriever.retrieve('infrared')"
   ]
  },
  {
   "cell_type": "code",
   "execution_count": 16,
   "id": "e3c41b3f-ab4b-41d5-aec4-2ff6cda6ee44",
   "metadata": {},
   "outputs": [
    {
     "data": {
      "text/plain": [
       "[NodeWithScore(node=TextNode(id_='b93b705e-3ae3-484b-89ec-78baef99711d', embedding=None, metadata={'page_label': '10', 'file_name': '1609.04153.pdf', 'file_path': '/Users/tristan/playground/gen-ai-ollama/pdf_papers/1609.04153.pdf', 'file_type': 'application/pdf', 'file_size': 4866808, 'creation_date': '2025-05-21', 'last_modified_date': '2025-05-21'}, excluded_embed_metadata_keys=['file_name', 'file_type', 'file_size', 'creation_date', 'last_modified_date', 'last_accessed_date'], excluded_llm_metadata_keys=['file_name', 'file_type', 'file_size', 'creation_date', 'last_modified_date', 'last_accessed_date'], relationships={<NodeRelationship.SOURCE: '1'>: RelatedNodeInfo(node_id='f49e5420-d672-4532-973d-3cc52fe36b83', node_type='4', metadata={'page_label': '10', 'file_name': '1609.04153.pdf', 'file_path': '/Users/tristan/playground/gen-ai-ollama/pdf_papers/1609.04153.pdf', 'file_type': 'application/pdf', 'file_size': 4866808, 'creation_date': '2025-05-21', 'last_modified_date': '2025-05-21'}, hash='a09c0105ae7de151664719adb672fd17d023aa508ccedbd6dce78e85f94e2382'), <NodeRelationship.NEXT: '3'>: RelatedNodeInfo(node_id='b8c98a8e-9fe7-44a2-ae8f-a8377643965a', node_type='1', metadata={}, hash='16afa333d1567ba8d0993796dd5dd3ea056c582def0da2ff7c5597b4bfb2c7a0')}, metadata_template='{key}: {value}', metadata_separator='\\n', text='A&A proofs:manuscript no. 29272\\nFig. 5.Schematic view of a Gaia CCD detector. Stars move from left\\nto right in the along-scan direction (yellow arrow). Charges in the read-\\nout register are clocked from bottom to top. The ﬁrst line of the CCD\\n(left) contains the charge-injection structure (red). The last line of the\\nCCD before the readout register (right) contains the summing well and\\ntransfer gate (blue). Dashed, grey lines indicate stitch-block boundaries.\\nSolid, green vertical lines indicate TDI gates (the three longest lines are\\nlabelled at the top of the CCD). The inset shows some details of an\\nindividual pixel. See Sect. 3.3.2 for details.\\nThe CCDs are passively cooled to 163 K to reduce dark current\\nand minimise (radiation-induced) along- and across-scan CTI.\\nTo further mitigate CTI, two features have been implemented in\\nthe detector design: ﬁrst, a charge-injection structure to period-\\nically inject a line of electronic charge into the last CCD line\\n(furthest from the readout register), which is then transferred by\\nthe TDI clocks through the device image area along with star\\nimages, thereby (temporarily) ﬁlling traps; and, second, a sup-\\nplementary buried channel (SBC; Seabroke et al. 2013) in each\\nCCD column to reduce the e ﬀect of CTI for small charge pack-\\nets by conﬁning the transfer channel in the across-scan direction,\\nthereby exposing the signal to fewer trapping centres.\\nThe CCDs are mounted on a support structure integrated into\\na cold-radiator box, which provides a radiative surface to the\\ninternal payload cavity (which is around 120 K), CCD shield-\\ning against radiation, and mounting support for the photome-\\nter prisms (Sect. 3.3.6) and straylight vanes and ba ﬄes. Each\\nCCD has its own proximity-electronics module (PEM), located\\nbehind the CCD (support structure) on the warm side of the fo-\\ncal plane assembly. Power from the warm electronics is dissi-\\npated directly to cold space through an opening in the thermal\\ntent that encloses the payload module. Low-conductance bipods\\nand thermal shields provide thermal isolation between the warm\\nand cold parts of the focal plane assembly. The PEMs provide\\ndigital correlated double sampling and contain an input stage,\\na low-noise pre-ampliﬁer with two programmable gain stages\\n(low gain for full dynamic range or high gain for limited dy-\\nnamic range and minimum noise), a bandwidth selector, and a\\n16-bit analogue-to-digital converter (ADC). The PEMs allow for\\nadjustment of the CCD operating points, which might become\\nnecessary at some point as a result of ﬂat-band voltage shifts in-\\nduced by ionising radiation (monitoring of which is described in\\nSect. 6.4). All CCD-PEM couples of a given row of CCDs are\\nconnected through a power- and command-distribution intercon-\\nnection module to a video processing unit (VPU; Sect. 3.3.8),\\nwhich is in charge of generating the CCD commanding and ac-\\nquiring the science data.\\nOperating the 100+ CCDs, comprising nearly a billion pix-\\nels, in TDI mode with a line period of ∼1 ms would generate a\\ndata rate that is orders of magnitude too high to be transmitted to\\nground. Three onboard reduction processes are hence applied:\\n1. Not all pixel data are read from the CCDs but only small\\nareas, windows, around objects of interest; remaining pixel\\ndata are ﬂushed at high speed in the serial register. This has\\nan associated advantage of decreased read noise for the de-\\nsired pixels;\\n2. The two-dimensional images (windows) are, except for\\nbright stars, binned in the across-scan direction, neverthe-\\nless preserving the scientiﬁc information content (timing /\\nalong-scan centroid, total intensity / magnitude, and spectral\\ninformation);\\n3. The resulting along-scan intensity proﬁles, such as line-\\nspread functions or spectra, are compressed on board without\\nloss of information; the typical gain in data volume is a factor\\n2.0–2.5.\\nWindows are assigned by the VPU on-the-ﬂy following au-\\ntonomous object detection in the sky mapper (Sect.', mimetype='text/plain', start_char_idx=0, end_char_idx=3981, metadata_seperator='\\n', text_template='{metadata_str}\\n\\n{content}'), score=9.261147947080835e-184)]"
      ]
     },
     "execution_count": 16,
     "metadata": {},
     "output_type": "execute_result"
    }
   ],
   "source": [
    "chroma_retriever = VectorIndexRetriever(\n",
    "    index=chroma_index,\n",
    "    similarity_top_k=1,\n",
    ")\n",
    "chroma_retriever.retrieve('infrared')"
   ]
  },
  {
   "cell_type": "code",
   "execution_count": 17,
   "id": "bb925b62-914b-4c19-8992-8b65e966ae65",
   "metadata": {},
   "outputs": [
    {
     "data": {
      "text/plain": [
       "[NodeWithScore(node=TextNode(id_='b93b705e-3ae3-484b-89ec-78baef99711d', embedding=None, metadata={'page_label': '10', 'file_name': '1609.04153.pdf', 'file_path': '/Users/tristan/playground/gen-ai-ollama/pdf_papers/1609.04153.pdf', 'file_type': 'application/pdf', 'file_size': 4866808, 'creation_date': '2025-05-21', 'last_modified_date': '2025-05-21'}, excluded_embed_metadata_keys=['file_name', 'file_type', 'file_size', 'creation_date', 'last_modified_date', 'last_accessed_date'], excluded_llm_metadata_keys=['file_name', 'file_type', 'file_size', 'creation_date', 'last_modified_date', 'last_accessed_date'], relationships={<NodeRelationship.SOURCE: '1'>: RelatedNodeInfo(node_id='f49e5420-d672-4532-973d-3cc52fe36b83', node_type='4', metadata={'page_label': '10', 'file_name': '1609.04153.pdf', 'file_path': '/Users/tristan/playground/gen-ai-ollama/pdf_papers/1609.04153.pdf', 'file_type': 'application/pdf', 'file_size': 4866808, 'creation_date': '2025-05-21', 'last_modified_date': '2025-05-21'}, hash='a09c0105ae7de151664719adb672fd17d023aa508ccedbd6dce78e85f94e2382'), <NodeRelationship.NEXT: '3'>: RelatedNodeInfo(node_id='b8c98a8e-9fe7-44a2-ae8f-a8377643965a', node_type='1', metadata={}, hash='16afa333d1567ba8d0993796dd5dd3ea056c582def0da2ff7c5597b4bfb2c7a0')}, metadata_template='{key}: {value}', metadata_separator='\\n', text='A&A proofs:manuscript no. 29272\\nFig. 5.Schematic view of a Gaia CCD detector. Stars move from left\\nto right in the along-scan direction (yellow arrow). Charges in the read-\\nout register are clocked from bottom to top. The ﬁrst line of the CCD\\n(left) contains the charge-injection structure (red). The last line of the\\nCCD before the readout register (right) contains the summing well and\\ntransfer gate (blue). Dashed, grey lines indicate stitch-block boundaries.\\nSolid, green vertical lines indicate TDI gates (the three longest lines are\\nlabelled at the top of the CCD). The inset shows some details of an\\nindividual pixel. See Sect. 3.3.2 for details.\\nThe CCDs are passively cooled to 163 K to reduce dark current\\nand minimise (radiation-induced) along- and across-scan CTI.\\nTo further mitigate CTI, two features have been implemented in\\nthe detector design: ﬁrst, a charge-injection structure to period-\\nically inject a line of electronic charge into the last CCD line\\n(furthest from the readout register), which is then transferred by\\nthe TDI clocks through the device image area along with star\\nimages, thereby (temporarily) ﬁlling traps; and, second, a sup-\\nplementary buried channel (SBC; Seabroke et al. 2013) in each\\nCCD column to reduce the e ﬀect of CTI for small charge pack-\\nets by conﬁning the transfer channel in the across-scan direction,\\nthereby exposing the signal to fewer trapping centres.\\nThe CCDs are mounted on a support structure integrated into\\na cold-radiator box, which provides a radiative surface to the\\ninternal payload cavity (which is around 120 K), CCD shield-\\ning against radiation, and mounting support for the photome-\\nter prisms (Sect. 3.3.6) and straylight vanes and ba ﬄes. Each\\nCCD has its own proximity-electronics module (PEM), located\\nbehind the CCD (support structure) on the warm side of the fo-\\ncal plane assembly. Power from the warm electronics is dissi-\\npated directly to cold space through an opening in the thermal\\ntent that encloses the payload module. Low-conductance bipods\\nand thermal shields provide thermal isolation between the warm\\nand cold parts of the focal plane assembly. The PEMs provide\\ndigital correlated double sampling and contain an input stage,\\na low-noise pre-ampliﬁer with two programmable gain stages\\n(low gain for full dynamic range or high gain for limited dy-\\nnamic range and minimum noise), a bandwidth selector, and a\\n16-bit analogue-to-digital converter (ADC). The PEMs allow for\\nadjustment of the CCD operating points, which might become\\nnecessary at some point as a result of ﬂat-band voltage shifts in-\\nduced by ionising radiation (monitoring of which is described in\\nSect. 6.4). All CCD-PEM couples of a given row of CCDs are\\nconnected through a power- and command-distribution intercon-\\nnection module to a video processing unit (VPU; Sect. 3.3.8),\\nwhich is in charge of generating the CCD commanding and ac-\\nquiring the science data.\\nOperating the 100+ CCDs, comprising nearly a billion pix-\\nels, in TDI mode with a line period of ∼1 ms would generate a\\ndata rate that is orders of magnitude too high to be transmitted to\\nground. Three onboard reduction processes are hence applied:\\n1. Not all pixel data are read from the CCDs but only small\\nareas, windows, around objects of interest; remaining pixel\\ndata are ﬂushed at high speed in the serial register. This has\\nan associated advantage of decreased read noise for the de-\\nsired pixels;\\n2. The two-dimensional images (windows) are, except for\\nbright stars, binned in the across-scan direction, neverthe-\\nless preserving the scientiﬁc information content (timing /\\nalong-scan centroid, total intensity / magnitude, and spectral\\ninformation);\\n3. The resulting along-scan intensity proﬁles, such as line-\\nspread functions or spectra, are compressed on board without\\nloss of information; the typical gain in data volume is a factor\\n2.0–2.5.\\nWindows are assigned by the VPU on-the-ﬂy following au-\\ntonomous object detection in the sky mapper (Sect.', mimetype='text/plain', start_char_idx=0, end_char_idx=3981, metadata_seperator='\\n', text_template='{metadata_str}\\n\\n{content}'), score=9.261147947080835e-184)]"
      ]
     },
     "execution_count": 17,
     "metadata": {},
     "output_type": "execute_result"
    }
   ],
   "source": [
    "faiss_retriever = VectorIndexRetriever(\n",
    "    index=faiss_index,\n",
    "    similarity_top_k=1,\n",
    ")\n",
    "chroma_retriever.retrieve('infrared')"
   ]
  },
  {
   "cell_type": "markdown",
   "id": "5bd4e3db-a50c-431c-9330-3e66ae22a682",
   "metadata": {},
   "source": [
    "## Query the index with a LLM\n",
    "\n",
    "Requires `llama-index-llms-ollama`."
   ]
  },
  {
   "cell_type": "code",
   "execution_count": 18,
   "id": "257563a7-e0d6-44db-acbf-1648ba207f23",
   "metadata": {},
   "outputs": [],
   "source": [
    "from llama_index.llms.ollama import Ollama"
   ]
  },
  {
   "cell_type": "code",
   "execution_count": 27,
   "id": "637c889a-73f0-4d3b-8180-452a2dbf0364",
   "metadata": {},
   "outputs": [],
   "source": [
    "llm_deepseek = Ollama(model=\"deepseek-r1:7b\", request_timeout=120.0, temperature=0.)"
   ]
  },
  {
   "cell_type": "code",
   "execution_count": 20,
   "id": "3cb49eda-d18f-42d9-876f-1076cfaf8e08",
   "metadata": {},
   "outputs": [],
   "source": [
    "query_engine = index.as_query_engine(llm=llm_deepseek)"
   ]
  },
  {
   "cell_type": "code",
   "execution_count": 21,
   "id": "ab101f62-a343-4892-9191-76e52e99d668",
   "metadata": {},
   "outputs": [
    {
     "name": "stdout",
     "output_type": "stream",
     "text": [
      "CPU times: user 30.6 ms, sys: 2.56 ms, total: 33.2 ms\n",
      "Wall time: 41.1 s\n"
     ]
    }
   ],
   "source": [
    "%%time\n",
    "response = query_engine.query(\"What is an open cluster?\")"
   ]
  },
  {
   "cell_type": "code",
   "execution_count": 22,
   "id": "9367c719-a271-4d04-9d06-529d46bf89e2",
   "metadata": {},
   "outputs": [
    {
     "name": "stdout",
     "output_type": "stream",
     "text": [
      "<think>\n",
      "Okay, I need to figure out what an open cluster is based on the provided context. Let me read through the context carefully.\n",
      "\n",
      "Looking at page_label 13, there are several documents mentioned like arXiv papers and A&A journal articles. Some of them discuss \"open clusters,\" so that's my starting point. The first document is about a morphological, kinematical, and chemical analysis of an open cluster in the Milky Way using Gaia DR2 data. Another paper talks about differential abundances and tidal tails of open clusters.\n",
      "\n",
      "I notice terms like \"open clusters\" throughout these documents. From what I know, astronomers use specific terminology to describe different groups of stars. Open clusters are probably a type of stellar group. The context mentions things like chemical tagging, kinematical studies, and morphological analyses, which are methods used to study open clusters.\n",
      "\n",
      "The papers also discuss tidal tails associated with open clusters, suggesting that these are groups of stars bound together by gravity but moving in a more extended formation due to the cluster's motion through space. The mention of \"open\" implies that these clusters might not be tightly bound or are younger compared to globular clusters.\n",
      "\n",
      "Putting this together, I can deduce that an open cluster is a collection of stars that are gravitationally bound and orbiting the same point in space. They typically form from molecular clouds and are generally less massive than globular clusters but older.\n",
      "</think>\n",
      "\n",
      "An open cluster is a tightly bound group of stars that share the same origin within the Milky Way, typically forming from molecular clouds and existing in an extended formation due to their motion through space.\n",
      "\n",
      "**Answer:**  \n",
      "An open cluster is a gravitationally bound collection of stars that originated together within the Milky Way. These clusters are often less massive than globular clusters but can be quite old. They exhibit tidal tails as they move through space, indicating their extended spatial extent and dynamic nature.\n"
     ]
    }
   ],
   "source": [
    "print(response.response)"
   ]
  },
  {
   "cell_type": "markdown",
   "id": "48fc9f41-354b-44b1-ac48-9c174e687675",
   "metadata": {},
   "source": [
    "The query also returns `response.source_nodes` and `response.metadata`."
   ]
  },
  {
   "cell_type": "code",
   "execution_count": 23,
   "id": "c9e60e44-14e0-4dcb-a37e-689db37a5b41",
   "metadata": {},
   "outputs": [
    {
     "name": "stdout",
     "output_type": "stream",
     "text": [
      "<think>\n",
      "Okay, so I'm trying to figure out whether white dwarfs can be found in open clusters based on the provided context. Let me read through the given information carefully.\n",
      "\n",
      "Looking at the context, there's a section labeled \"page_label: 6\" and it's discussing chemical abundances of stellar clusters. The document talks about how studies have searched for white dwarfs associated with clusters like Berkeley 17. It mentions that very few white dwarfs with progenitors more massive than 5 solar masses are known to reside in clusters. This suggests that most white dwarfs found in open clusters might be less massive.\n",
      "\n",
      "Additionally, the context states that because cluster ages can often be accurately determined using isochrones, it's possible to constrain the mass of white dwarf progenitors much better than for field stars. However, even with this, only a few high-mass white dwarfs are associated with clusters.\n",
      "\n",
      "So putting this together, while in theory white dwarfs could exist within open clusters, practically very few have been found, especially those from more massive progenitors. This implies that open clusters don't typically host many or any significant numbers of white dwarfs.\n",
      "</think>\n",
      "\n",
      "White dwarfs can technically exist within open clusters due to their formation processes and the dynamics of stellar evolution, but based on current observations and studies, they are rarely found in such environments. Specifically, very few white dwarfs with progenitors more massive than 5 solar masses are known to reside in clusters like Berkeley 17. This suggests that while possible, open clusters do not typically host many or any significant numbers of white dwarfs.\n",
      "\n",
      "Answer:  \n",
      "White dwarfs can exist within open clusters, but they are rarely found there. Currently, very few are known to be associated with clusters, particularly those with more massive progenitors.\n",
      "CPU times: user 29.7 ms, sys: 4.43 ms, total: 34.1 ms\n",
      "Wall time: 37.4 s\n"
     ]
    }
   ],
   "source": [
    "%%time\n",
    "chroma_query_engine = chroma_index.as_query_engine(llm=llm_deepseek)\n",
    "response = query_engine.query(\"Can white dwarfs be found in open clusters?\")\n",
    "print(response.response)"
   ]
  },
  {
   "cell_type": "code",
   "execution_count": 28,
   "id": "9acfaffb-1f63-4eae-8328-15ae4126c81b",
   "metadata": {},
   "outputs": [
    {
     "name": "stdout",
     "output_type": "stream",
     "text": [
      "<think>\n",
      "Okay, so I need to figure out if there's a Gaia DR5 based on the provided context. Let me start by looking through the given pages.\n",
      "\n",
      "First, page 29 talks about the Gaia mission and its data releases up to five years. It mentions that after five years, they achieve certain precision levels for stellar parallaxes and radial velocities. Then it goes into details about photometric and spectroscopic data processing, validation, and the architecture of the DPAC.\n",
      "\n",
      "Page 24 discusses the data processing cycles. Each cycle processes all the data segments from previous cycles plus a new one. The DR1 is mentioned as being based on the first intermediate release after five years. It also talks about simulations for data products like GIBIS, GASS, and GOG, which are used internally and to support the astronomical community.\n",
      "\n",
      "Looking at page 24 again, it says that the Gaia Data Processing and Analysis Consortium (DPAC) prepares simulations from pixels in the focal plane up through simulated DPAC data products. These simulations help prepare for the mission and support astronomical communities. It also mentions that these simulations are available alongside the released Gaia data.\n",
      "\n",
      "Now, page 24 specifically states that \"the Gaia intermediate data release schedule is driven by the lengths of the processing cycles.\" So each release comes after completing a certain number of processing cycles. The first was DR1 at five years, then subsequent releases as more data is processed and cycles are completed.\n",
      "\n",
      "Since there's no mention of a DR5 in either page 29 or 24, it seems that Gaia doesn't have a fifth data release yet. The latest mentioned is DR1 after the initial five-year processing cycle.\n",
      "</think>\n",
      "\n",
      "Based on the provided context, there is no mention of a Gaia DR5. The Gaia mission has released intermediate data products such as DR1 following an initial five-year processing cycle. There are no indications that further data releases like DR2, DR3, or DR4 have been planned or executed at the time of this information.\n",
      "\n",
      "Answer: \n",
      "\n",
      "No, there is no mention of a Gaia DR5 in the provided context. The Gaia mission has released intermediate data products such as DR1 after an initial five-year processing cycle.\n",
      "CPU times: user 31.3 ms, sys: 6.96 ms, total: 38.2 ms\n",
      "Wall time: 30.4 s\n"
     ]
    }
   ],
   "source": [
    "%%time\n",
    "faiss_query_engine = faiss_index.as_query_engine(llm=llm_deepseek)\n",
    "response = faiss_query_engine.query(\"Is there a Gaia DR5?\")\n",
    "print(response.response)"
   ]
  },
  {
   "cell_type": "markdown",
   "id": "eac8c6f5-5a9b-435b-bbc0-e17bb01e7ecb",
   "metadata": {},
   "source": [
    "### See prompts\n",
    "\n",
    "https://docs.llamaindex.ai/en/stable/examples/prompts/prompt_mixin/"
   ]
  },
  {
   "cell_type": "code",
   "execution_count": 39,
   "id": "5cebc5a2-54a5-4806-9db4-ba408bcfb7ac",
   "metadata": {},
   "outputs": [
    {
     "name": "stdout",
     "output_type": "stream",
     "text": [
      "Context information is below.\n",
      "---------------------\n",
      "{context_str}\n",
      "---------------------\n",
      "Given the context information and not prior knowledge, answer the query.\n",
      "Query: {query_str}\n",
      "Answer: \n"
     ]
    }
   ],
   "source": [
    "print(faiss_query_engine.get_prompts()['response_synthesizer:text_qa_template'].get_template())"
   ]
  },
  {
   "cell_type": "code",
   "execution_count": 40,
   "id": "46cce38f-34a2-45f1-a582-7f59670d109e",
   "metadata": {},
   "outputs": [
    {
     "name": "stdout",
     "output_type": "stream",
     "text": [
      "The original query is as follows: {query_str}\n",
      "We have provided an existing answer: {existing_answer}\n",
      "We have the opportunity to refine the existing answer (only if needed) with some more context below.\n",
      "------------\n",
      "{context_msg}\n",
      "------------\n",
      "Given the new context, refine the original answer to better answer the query. If the context isn't useful, return the original answer.\n",
      "Refined Answer: \n"
     ]
    }
   ],
   "source": [
    "print(faiss_query_engine.get_prompts()['response_synthesizer:refine_template'].get_template())"
   ]
  }
 ],
 "metadata": {
  "kernelspec": {
   "display_name": "Python 3 (ipykernel)",
   "language": "python",
   "name": "python3"
  },
  "language_info": {
   "codemirror_mode": {
    "name": "ipython",
    "version": 3
   },
   "file_extension": ".py",
   "mimetype": "text/x-python",
   "name": "python",
   "nbconvert_exporter": "python",
   "pygments_lexer": "ipython3",
   "version": "3.13.3"
  }
 },
 "nbformat": 4,
 "nbformat_minor": 5
}
