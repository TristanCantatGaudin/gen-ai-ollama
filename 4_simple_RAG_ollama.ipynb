{
 "cells": [
  {
   "cell_type": "markdown",
   "id": "5758fc90-ec20-49d1-aed3-7314bdefaea0",
   "metadata": {},
   "source": [
    "# Retrieval-Augmented Generation\n",
    "\n",
    "LLMs can hallucinate and return incorrect answers even to simple questions. One way to help them is to provide an entire document in the prompting question (`deepseek-r1:7b` accepts about 200 wikipedia pages, or the entire Harry Potter 1 book), but LLMs have difficulty parsing long documents and often miss relevant pieces of information.\n",
    "\n",
    "In this notebook we use cosine similarity between embedded information and an embedded question, in order to only retrieve relevant bits of information that will keep the prompt short but still help the LLM answer a question."
   ]
  },
  {
   "cell_type": "code",
   "execution_count": 6,
   "id": "73ed6a50-ee33-4340-b11d-900c7e8914d8",
   "metadata": {},
   "outputs": [],
   "source": [
    "import requests\n",
    "import ollama\n",
    "LANGUAGE_MODEL = 'deepseek-r1:7b'\n",
    "EMBEDDING_MODEL = 'nomic-embed-text:latest'"
   ]
  },
  {
   "cell_type": "markdown",
   "id": "2e6b8f1f-659d-4da2-8aa6-7bc6133e24b0",
   "metadata": {},
   "source": [
    "## LLM hallucinations on simple questions\n",
    "\n",
    "If asked *\"What is the smallest cat?\"*, the model hallucinates a cat breed called \"Japanese Yuki\" which doesn't actually exist.\n",
    "\n",
    "When asked *\"What is the smallest domestic cat breed?\"* it tells us that the \"White-Ledger short-haired Midget measures approximately 2-3 inches in length\"."
   ]
  },
  {
   "cell_type": "code",
   "execution_count": 7,
   "id": "70e60645-9dac-4ea4-845d-34ba637c5266",
   "metadata": {},
   "outputs": [
    {
     "name": "stdout",
     "output_type": "stream",
     "text": [
      "<think>\n",
      "Okay, so I need to figure out what the smallest domestic cat breed is. I know that cats come in all sorts of sizes and shapes, but I'm not exactly sure which one is the smallest. I've heard about some really tiny animals before, like mice or maybe even some insects, but cats are mammals, so they must be bigger than those.\n",
      "\n",
      "First, I should probably consider what defines a \"domestic cat breed.\" They're all part of the feline family, Felivora, right? So, they have to be domesticated for human habitation. Breeds vary in size, color, and other traits. Some are known for being large, like Siamese or Russian Blues, while others might be more compact.\n",
      "\n",
      "I remember hearing about something called a \"Guinea Pig,\" but wait, that's not a cat—it's a rodent. So maybe I should focus on actual felines here. Then there's the \"Mice\" family, which includes mice and similar small creatures, but again, they're not cats. Wait, no—there are also \"Rabbits,\" but rabbits aren't considered domesticated in the same way as cats.\n",
      "\n",
      "Wait a second, maybe I'm confusing breeds with wild animals. There's definitely a breed that's very small. I think it might be called the \"Midget Cat\" or something like that. But is that an actual recognized breed? Or is it just a term people use informally?\n",
      "\n",
      "I should check some sources to confirm this. Let me think about what I know from pet information sites or maybe animal shelters. I recall seeing pictures of very small cats, perhaps around 2-3 inches in length. They have distinctive features like long ears and short tails.\n",
      "\n",
      "Oh right! There's the \"Maltort\" breed. Wait, no—that might be a mix with something else. Or is it the \"Tortoiseshell\"? No, that sounds more like a color variation rather than a specific breed.\n",
      "\n",
      "Wait, maybe it's called the \"Midget Cat.\" I think that's an actual recognized breed. They are indeed very small, measuring about 2-3 inches in length and weighing around half a pound. Their fur is usually white or cream with black markings, giving them a unique appearance.\n",
      "\n",
      "But to make sure, let me try to recall if there's another breed smaller than the Midget Cat. I can't think of any other breeds that are as tiny. Maybe the \"Lynx\" or something similar? No, Lynx is a wild cat, not domesticated. So probably, the Midget Cat is the smallest.\n",
      "\n",
      "I should also consider if there are any other small breeds that might be overlooked. For example, maybe some of the toy breeds like the Chihuahua are very small, but wait—Chihuahuas aren't cats; they're actually a type of dog. So no, that's not applicable here.\n",
      "\n",
      "So putting it all together, the Midget Cat is recognized as one of the smallest domestic cat breeds, measuring around 2-3 inches in length and weighing about half a pound. They have distinctive fur coloration and are often kept as companion animals because they don't require much space.\n",
      "</think>\n",
      "\n",
      "The smallest recognized domestic cat breed is the **Midget Cat**, also known as the **White-Ledger Midget** or **White-Ledger short-haired Midget**. These cats measure approximately 2-3 inches in length and weigh around half a pound. They are characterized by their white or cream fur with black markings, giving them a distinctive appearance. The Midget Cat is notable for its compact size and is often kept as a companion animal due to its small space requirements.CPU times: user 135 ms, sys: 54.1 ms, total: 189 ms\n",
      "Wall time: 45.4 s\n"
     ]
    }
   ],
   "source": [
    "%%time\n",
    "\n",
    "QUESTION = \"What is the smallest domestic cat breed?\"\n",
    "\n",
    "stream = ollama.generate(\n",
    "    model=LANGUAGE_MODEL, \n",
    "    prompt=QUESTION, \n",
    "    stream=True,\n",
    "    options={\"temperature\": 0},\n",
    ")\n",
    "for chunk in stream:\n",
    "  print(chunk['response'], end='', flush=True)"
   ]
  },
  {
   "cell_type": "markdown",
   "id": "14320c1f-b96b-4c2e-9fbc-639b87a0ac74",
   "metadata": {},
   "source": [
    "## Feeding it relevant information through embedded facts\n",
    "\n",
    "This code is taken from Notebook #3:"
   ]
  },
  {
   "cell_type": "code",
   "execution_count": 12,
   "id": "6c703e85-cfff-469e-9e64-61ce04e75c11",
   "metadata": {},
   "outputs": [
    {
     "name": "stdout",
     "output_type": "stream",
     "text": [
      "Top 2 most relevant chunks:\n",
      "\n",
      "('The smallest wildcat today is the Black-footed cat. The females are less than 20 inches (50 cm) long and can weigh as little as 2.5 lbs. (1.2 kg).', 0.7901366658261361) \n",
      "\n",
      "('The smallest pedigreed cat is a Singapura, which can weigh just 4 lbs. (1.8 kg), or about five large cans of cat food. The largest pedigreed cats are Maine Coon cats, which can weigh 25 lbs. (11.3 kg), or nearly twice as much as an average cat weighs.', 0.7765075430480689) \n",
      "\n"
     ]
    }
   ],
   "source": [
    "cat_facts_url = 'https://huggingface.co/ngxson/demo_simple_rag_py/raw/main/cat-facts.txt'\n",
    "response = requests.get(cat_facts_url)\n",
    "cat_facts = response.text.split(\"\\n\")\n",
    "EMBEDDED_FACTS = []\n",
    "for fact in cat_facts:\n",
    "    EMBEDDED_FACTS.append( ollama.embed(model=EMBEDDING_MODEL, input=fact)[\"embeddings\"][0] )\n",
    "\n",
    "def cosine_similarity(a, b):\n",
    "  dot_product = sum([x * y for x, y in zip(a, b)])\n",
    "  norm_a = sum([x ** 2 for x in a]) ** 0.5\n",
    "  norm_b = sum([x ** 2 for x in b]) ** 0.5\n",
    "  return dot_product / (norm_a * norm_b)\n",
    "\n",
    "query_embedding = ollama.embed(model=EMBEDDING_MODEL, input=QUESTION)['embeddings'][0]\n",
    "\n",
    "similarities = []\n",
    "\n",
    "for chunk, embedding in zip(cat_facts,EMBEDDED_FACTS):\n",
    "    similarity = cosine_similarity(query_embedding, embedding)\n",
    "    similarities.append((chunk, similarity))\n",
    "\n",
    "similarities.sort(key=lambda x: x[1], reverse=True)\n",
    "\n",
    "print(\"Top 2 most relevant chunks:\\n\")\n",
    "for chunk in similarities[:2]:\n",
    "    print(chunk,\"\\n\")"
   ]
  },
  {
   "cell_type": "markdown",
   "id": "b90300be-7fda-44a8-b349-89a8a7be1549",
   "metadata": {},
   "source": [
    "Now, instead of just asking the question, where are going to pass this information in the prompt:"
   ]
  },
  {
   "cell_type": "code",
   "execution_count": 15,
   "id": "e494fe65-7a7c-4de0-8501-cd3c46791943",
   "metadata": {},
   "outputs": [
    {
     "name": "stdout",
     "output_type": "stream",
     "text": [
      "INSTRUCTIONS:\n",
      "Answer the QUESTION below using the DOCUMENT below as context.\n",
      "Do not make up any information. If the answer is not given in the document, say that you don't know.\n",
      "\n",
      "DOCUMENT:\n",
      "The smallest wildcat today is the Black-footed cat. The females are less than 20 inches (50 cm) long and can weigh as little as 2.5 lbs. (1.2 kg).\n",
      "The smallest pedigreed cat is a Singapura, which can weigh just 4 lbs. (1.8 kg), or about five large cans of cat food. The largest pedigreed cats are Maine Coon cats, which can weigh 25 lbs. (11.3 kg), or nearly twice as much as an average cat weighs.\n",
      "\n",
      "QUESTION:\n",
      "What is the smallest domestic cat breed?\n"
     ]
    }
   ],
   "source": [
    "AUGMENTED_QUESTION = f\"\"\"INSTRUCTIONS:\n",
    "Answer the QUESTION below using the DOCUMENT below as context.\n",
    "Do not make up any information. If the answer is not given in the document, say that you don't know.\n",
    "\n",
    "DOCUMENT:\n",
    "{similarities[0][0]}\n",
    "{similarities[1][0]}\n",
    "\n",
    "QUESTION:\n",
    "{QUESTION}\"\"\"\n",
    "\n",
    "print(AUGMENTED_QUESTION)"
   ]
  },
  {
   "cell_type": "markdown",
   "id": "75a25e54-d0b2-4a5f-a9fb-444e62abf16a",
   "metadata": {},
   "source": [
    "Let's ask the LLM again:"
   ]
  },
  {
   "cell_type": "code",
   "execution_count": 16,
   "id": "f162e12e-89b4-4162-a434-0bd0632f419f",
   "metadata": {},
   "outputs": [
    {
     "name": "stdout",
     "output_type": "stream",
     "text": [
      "<think>\n",
      "Okay, so I need to figure out what the smallest domestic cat breed is based on the document provided. Let me read through the document again carefully.\n",
      "\n",
      "The document starts by talking about wildcats and then moves into domestic cats. It mentions two specific breeds: the Black-footed cat and the Singapura as a pedigreed cat, but I'm not sure if they're domestic or wildcats. Wait, no—the first part is about wildcats, so maybe those are separate from domestic breeds.\n",
      "\n",
      "Looking further down, it says something about the smallest piedreed cats being the Singapura, weighing around 4 lbs (1.8 kg). Then it mentions that the largest pedigreed cats are Maine Coon at 25 lbs (11.3 kg), which is almost twice as much as an average cat.\n",
      "\n",
      "Wait a minute, so the document talks about both wild and domestic cats but focuses on their weights. The question is asking for the smallest domestic cat breed. So I should focus on the domestic breeds mentioned here.\n",
      "\n",
      "The document lists two domestic breeds: Singapura (4 lbs) and Maine Coon (25 lbs). Since the question is about the smallest, the Singapura would be the answer because it's much lighter than the Maine Coon.\n",
      "\n",
      "I don't think there are any other breeds mentioned in the document that I need to consider. The Black-footed cat is a wildcat, so it's not relevant here. Therefore, based on the information given, the smallest domestic cat breed is the Singapura.\n",
      "</think>\n",
      "\n",
      "The smallest domestic cat breed is the **Singapura**, weighing approximately 4 pounds (1.8 kg).CPU times: user 62.2 ms, sys: 25.2 ms, total: 87.5 ms\n",
      "Wall time: 21.1 s\n"
     ]
    }
   ],
   "source": [
    "%%time\n",
    "stream = ollama.generate(\n",
    "    model=LANGUAGE_MODEL, \n",
    "    prompt=AUGMENTED_QUESTION, \n",
    "    stream=True,\n",
    "    options={\"temperature\": 0},\n",
    ")\n",
    "for chunk in stream:\n",
    "  print(chunk['response'], end='', flush=True)"
   ]
  },
  {
   "cell_type": "markdown",
   "id": "731341b0-6dc9-4b94-a688-c0078ae7166d",
   "metadata": {},
   "source": [
    "We have our answer!\n",
    "\n",
    "## Wrapped in a class"
   ]
  },
  {
   "cell_type": "code",
   "execution_count": 42,
   "id": "1d2be5b1-8168-459d-8858-59f9ce9e2151",
   "metadata": {},
   "outputs": [],
   "source": [
    "import requests\n",
    "import ollama\n",
    "\n",
    "def cosine_similarity(a, b):\n",
    "    dot_product = sum([x * y for x, y in zip(a, b)])\n",
    "    norm_a = sum([x ** 2 for x in a]) ** 0.5\n",
    "    norm_b = sum([x ** 2 for x in b]) ** 0.5\n",
    "    return dot_product / (norm_a * norm_b)\n",
    "\n",
    "class llm_with_rag():\n",
    "        def __init__(self, LANGUAGE_MODEL, EMBEDDING_MODEL):\n",
    "            self.LANGUAGE_MODEL = LANGUAGE_MODEL\n",
    "            self.EMBEDDING_MODEL = EMBEDDING_MODEL\n",
    "            self.EMBEDDED_FACTS = []\n",
    "\n",
    "        def ingest(self,facts_url):\n",
    "            response = requests.get(facts_url)\n",
    "            self.chunked_facts = response.text.split(\"\\n\")\n",
    "            for fact in self.chunked_facts:\n",
    "                self.EMBEDDED_FACTS.append( \n",
    "                    ollama.embed(model=self.EMBEDDING_MODEL, input=fact)[\"embeddings\"][0] \n",
    "                )\n",
    "            return self\n",
    "\n",
    "        def ask(self,QUESTION):\n",
    "            embedded_question = ollama.embed(\n",
    "                model=self.EMBEDDING_MODEL, \n",
    "                input=QUESTION,\n",
    "            )['embeddings'][0]\n",
    "            similarities = []\n",
    "            for chunk, embedding in zip(self.chunked_facts,self.EMBEDDED_FACTS):\n",
    "                similarity = cosine_similarity(embedded_question, embedding)\n",
    "                similarities.append((chunk, similarity))\n",
    "            similarities.sort(key=lambda x: x[1], reverse=True)\n",
    "            \n",
    "            self.AUGMENTED_QUESTION = f\"\"\"INSTRUCTIONS:\n",
    "            Answer the QUESTION below using the DOCUMENT below as context.\n",
    "            Do not make up any information. If the answer is not given in the document, say that you don't know.\n",
    "            \n",
    "            DOCUMENT:\n",
    "            {similarities[0][0]}\n",
    "            {similarities[1][0]}\n",
    "            \n",
    "            QUESTION:\n",
    "            {QUESTION}\"\"\"\n",
    "\n",
    "            stream = ollama.generate(\n",
    "                model=self.LANGUAGE_MODEL, \n",
    "                prompt=self.AUGMENTED_QUESTION, \n",
    "                stream=True,\n",
    "                options={\"temperature\": 0},\n",
    "            )\n",
    "            \n",
    "            full_answer = \"\"\n",
    "            for chunk in stream:\n",
    "                full_answer += chunk['response']\n",
    "                print(chunk['response'], end='', flush=True)\n",
    "\n",
    "            dict_answer = {\n",
    "                \"chain_of_thought\":full_answer.split(\"</think>\")[0]+\"</think>\",\n",
    "                \"answer\":full_answer.split(\"</think>\\n\\n\")[1]}\n",
    "                \n",
    "            return dict_answer"
   ]
  },
  {
   "cell_type": "code",
   "execution_count": 43,
   "id": "cabd78d8-f921-4420-a4db-5f353b1b77fa",
   "metadata": {},
   "outputs": [],
   "source": [
    "answer_machine = llm_with_rag('deepseek-r1:7b','nomic-embed-text:latest')\n",
    "answer_machine = answer_machine.ingest(\"https://huggingface.co/ngxson/demo_simple_rag_py/raw/main/cat-facts.txt\")"
   ]
  },
  {
   "cell_type": "code",
   "execution_count": 44,
   "id": "68ce246a-01ca-4143-b3ad-958dc520bda5",
   "metadata": {},
   "outputs": [
    {
     "name": "stdout",
     "output_type": "stream",
     "text": [
      "<think>\n",
      "Okay, so I need to figure out if cats are happy based on the document provided. Let me read through the document again carefully.\n",
      "\n",
      "The first paragraph talks about a cat's mood being visible in its eyes. It mentions that a frightened or excited cat has large, round pupils, while an angry cat has narrow ones. It also notes that pupil size relates to emotions and the amount of light. Hmm, so this is talking about how cats' eye movements can indicate their emotional states.\n",
      "\n",
      "The second paragraph says that cats are social animals and respond to speech, enjoying human companionship. That suggests that cats do get happiness from being around people because they interact with them.\n",
      "\n",
      "Putting these together, it seems like the document doesn't directly say whether cats are happy or not in general. It just explains how to tell if a cat is excited, angry, etc., based on their eyes, and mentions their social nature which could imply that cats derive happiness from human interaction.\n",
      "\n",
      "So, I don't have enough information in the document to definitively answer if cats are happy overall. The only thing it does say is that they enjoy being around humans, but that doesn't necessarily mean they're happy unless we assume that companionship leads to happiness.\n",
      "</think>\n",
      "\n",
      "The document provides insights into how a cat's mood can be assessed through its eyes and mentions their social nature, suggesting they derive some happiness from human interaction. However, it does not definitively state whether cats are generally happy or not.\n",
      "\n",
      "Answer: The document does not provide enough information to conclude if cats are generally happy; it only suggests that cats may enjoy human companionship, which could contribute to their happiness."
     ]
    }
   ],
   "source": [
    "answer1 = answer_machine.ask(\"Are cats happy?\")"
   ]
  },
  {
   "cell_type": "code",
   "execution_count": 47,
   "id": "90af58bf-8643-4404-a25c-cc7ef7df62bc",
   "metadata": {},
   "outputs": [
    {
     "name": "stdout",
     "output_type": "stream",
     "text": [
      "<think>\n",
      "Okay, so I need to figure out if cats are happy based on the document provided. Let me read through the document again carefully.\n",
      "\n",
      "The first paragraph talks about a cat's mood being visible in its eyes. It mentions that a frightened or excited cat has large, round pupils, while an angry cat has narrow ones. It also notes that pupil size relates to emotions and the amount of light. Hmm, so this is talking about how cats' eye movements can indicate their emotional states.\n",
      "\n",
      "The second paragraph says that cats are social animals and respond to speech, enjoying human companionship. That suggests that cats do get happiness from being around people because they interact with them.\n",
      "\n",
      "Putting these together, it seems like the document doesn't directly say whether cats are happy or not in general. It just explains how to tell if a cat is excited, angry, etc., based on their eyes, and mentions their social nature which could imply that cats derive happiness from human interaction.\n",
      "\n",
      "So, I don't have enough information in the document to definitively answer if cats are happy overall. The only thing it does say is that they enjoy being around humans, but that doesn't necessarily mean they're happy unless we assume that companionship leads to happiness.\n",
      "</think>\n",
      "The document provides insights into how a cat's mood can be assessed through its eyes and mentions their social nature, suggesting they derive some happiness from human interaction. However, it does not definitively state whether cats are generally happy or not.\n",
      "\n",
      "Answer: The document does not provide enough information to conclude if cats are generally happy; it only suggests that cats may enjoy human companionship, which could contribute to their happiness.\n"
     ]
    }
   ],
   "source": [
    "print(answer1[\"chain_of_thought\"])\n",
    "print(answer1[\"answer\"])"
   ]
  }
 ],
 "metadata": {
  "kernelspec": {
   "display_name": "Python 3 (ipykernel)",
   "language": "python",
   "name": "python3"
  },
  "language_info": {
   "codemirror_mode": {
    "name": "ipython",
    "version": 3
   },
   "file_extension": ".py",
   "mimetype": "text/x-python",
   "name": "python",
   "nbconvert_exporter": "python",
   "pygments_lexer": "ipython3",
   "version": "3.13.3"
  }
 },
 "nbformat": 4,
 "nbformat_minor": 5
}
